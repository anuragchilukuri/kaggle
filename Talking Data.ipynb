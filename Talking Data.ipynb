{
 "cells": [
  {
   "cell_type": "markdown",
   "metadata": {
    "ExecuteTime": {
     "end_time": "2018-04-03T06:59:06.874749Z",
     "start_time": "2018-04-03T06:59:06.871646Z"
    }
   },
   "source": [
    "### Plan\n",
    "\n",
    "Phase 1 \n",
    "\n",
    "1. Take part of the data - 7 million? (5 mil train and 1 mil valid and 1 mil test)?\n",
    "2. Create features\n",
    "3. Categorical/Numerical variables\n",
    "4. Create embedding sizes from categorical variables\n",
    "5. Make predictions on the original test data using this model trained on just 5 million rows"
   ]
  },
  {
   "cell_type": "markdown",
   "metadata": {},
   "source": [
    "### Read Libraries"
   ]
  },
  {
   "cell_type": "code",
   "execution_count": 1,
   "metadata": {
    "ExecuteTime": {
     "end_time": "2018-04-12T17:32:42.435737Z",
     "start_time": "2018-04-12T17:32:38.784008Z"
    }
   },
   "outputs": [],
   "source": [
    "import pandas as pd\n",
    "\n",
    "from fastai.structured import *\n",
    "from fastai.column_data import *\n",
    "np.set_printoptions(threshold=50, edgeitems=20)\n"
   ]
  },
  {
   "cell_type": "code",
   "execution_count": 2,
   "metadata": {
    "ExecuteTime": {
     "end_time": "2018-04-12T17:32:42.439417Z",
     "start_time": "2018-04-12T17:32:42.437348Z"
    }
   },
   "outputs": [],
   "source": [
    "from sklearn.metrics import auc"
   ]
  },
  {
   "cell_type": "markdown",
   "metadata": {},
   "source": [
    "### Read data path"
   ]
  },
  {
   "cell_type": "code",
   "execution_count": 3,
   "metadata": {
    "ExecuteTime": {
     "end_time": "2018-04-12T17:32:42.448877Z",
     "start_time": "2018-04-12T17:32:42.440806Z"
    }
   },
   "outputs": [],
   "source": [
    "path = '/home/paperspace/data/talkingdata/'"
   ]
  },
  {
   "cell_type": "markdown",
   "metadata": {},
   "source": [
    "### Read train sample data"
   ]
  },
  {
   "cell_type": "code",
   "execution_count": 4,
   "metadata": {
    "ExecuteTime": {
     "end_time": "2018-04-12T17:33:36.990841Z",
     "start_time": "2018-04-12T17:32:43.921927Z"
    }
   },
   "outputs": [],
   "source": [
    "train_sample = pd.read_csv(path+'train.csv.zip',compression='zip',low_memory=True,skiprows=184903890-7000000)"
   ]
  },
  {
   "cell_type": "code",
   "execution_count": 5,
   "metadata": {
    "ExecuteTime": {
     "end_time": "2018-04-12T17:33:36.999131Z",
     "start_time": "2018-04-12T17:33:36.992264Z"
    }
   },
   "outputs": [],
   "source": [
    "train_columns = pd.read_csv(path+'train.csv.zip',compression='zip',low_memory=True,nrows=1)"
   ]
  },
  {
   "cell_type": "code",
   "execution_count": 6,
   "metadata": {
    "ExecuteTime": {
     "end_time": "2018-04-12T17:33:37.002404Z",
     "start_time": "2018-04-12T17:33:37.000436Z"
    }
   },
   "outputs": [],
   "source": [
    "train_sample.columns = train_columns.columns"
   ]
  },
  {
   "cell_type": "code",
   "execution_count": 7,
   "metadata": {
    "ExecuteTime": {
     "end_time": "2018-04-12T17:33:37.007903Z",
     "start_time": "2018-04-12T17:33:37.003724Z"
    }
   },
   "outputs": [
    {
     "data": {
      "text/plain": [
       "(7000000, 8)"
      ]
     },
     "execution_count": 7,
     "metadata": {},
     "output_type": "execute_result"
    }
   ],
   "source": [
    "train_sample.shape"
   ]
  },
  {
   "cell_type": "code",
   "execution_count": 8,
   "metadata": {
    "ExecuteTime": {
     "end_time": "2018-04-11T01:43:52.843221Z",
     "start_time": "2018-04-11T01:43:52.759257Z"
    }
   },
   "outputs": [
    {
     "data": {
      "text/plain": [
       "0    6986062\n",
       "1      13938\n",
       "Name: is_attributed, dtype: int64"
      ]
     },
     "execution_count": 8,
     "metadata": {},
     "output_type": "execute_result"
    }
   ],
   "source": [
    "train_sample['is_attributed'].value_counts()"
   ]
  },
  {
   "cell_type": "code",
   "execution_count": 41,
   "metadata": {
    "ExecuteTime": {
     "end_time": "2018-04-11T02:06:23.487763Z",
     "start_time": "2018-04-11T02:06:23.264325Z"
    }
   },
   "outputs": [
    {
     "data": {
      "text/plain": [
       "0.001991142857142857"
      ]
     },
     "execution_count": 41,
     "metadata": {},
     "output_type": "execute_result"
    }
   ],
   "source": [
    "train_sample['is_attributed'].value_counts()[1]/(train_sample['is_attributed'].value_counts()[0]+train_sample['is_attributed'].value_counts()[1])"
   ]
  },
  {
   "cell_type": "code",
   "execution_count": 8,
   "metadata": {
    "ExecuteTime": {
     "end_time": "2018-04-12T17:33:57.097850Z",
     "start_time": "2018-04-12T17:33:56.867146Z"
    }
   },
   "outputs": [],
   "source": [
    "df = train_sample.copy()"
   ]
  },
  {
   "cell_type": "code",
   "execution_count": 9,
   "metadata": {
    "ExecuteTime": {
     "end_time": "2018-04-12T17:34:11.551743Z",
     "start_time": "2018-04-12T17:34:11.531055Z"
    }
   },
   "outputs": [
    {
     "data": {
      "text/html": [
       "<div>\n",
       "<style scoped>\n",
       "    .dataframe tbody tr th:only-of-type {\n",
       "        vertical-align: middle;\n",
       "    }\n",
       "\n",
       "    .dataframe tbody tr th {\n",
       "        vertical-align: top;\n",
       "    }\n",
       "\n",
       "    .dataframe thead th {\n",
       "        text-align: right;\n",
       "    }\n",
       "</style>\n",
       "<table border=\"1\" class=\"dataframe\">\n",
       "  <thead>\n",
       "    <tr style=\"text-align: right;\">\n",
       "      <th></th>\n",
       "      <th>ip</th>\n",
       "      <th>app</th>\n",
       "      <th>device</th>\n",
       "      <th>os</th>\n",
       "      <th>channel</th>\n",
       "      <th>click_time</th>\n",
       "      <th>attributed_time</th>\n",
       "      <th>is_attributed</th>\n",
       "    </tr>\n",
       "  </thead>\n",
       "  <tbody>\n",
       "    <tr>\n",
       "      <th>0</th>\n",
       "      <td>90680</td>\n",
       "      <td>9</td>\n",
       "      <td>1</td>\n",
       "      <td>18</td>\n",
       "      <td>489</td>\n",
       "      <td>2017-11-09 13:51:03</td>\n",
       "      <td>NaN</td>\n",
       "      <td>0</td>\n",
       "    </tr>\n",
       "    <tr>\n",
       "      <th>1</th>\n",
       "      <td>110563</td>\n",
       "      <td>18</td>\n",
       "      <td>1</td>\n",
       "      <td>13</td>\n",
       "      <td>107</td>\n",
       "      <td>2017-11-09 13:51:03</td>\n",
       "      <td>NaN</td>\n",
       "      <td>0</td>\n",
       "    </tr>\n",
       "    <tr>\n",
       "      <th>2</th>\n",
       "      <td>96723</td>\n",
       "      <td>18</td>\n",
       "      <td>1</td>\n",
       "      <td>22</td>\n",
       "      <td>121</td>\n",
       "      <td>2017-11-09 13:51:03</td>\n",
       "      <td>NaN</td>\n",
       "      <td>0</td>\n",
       "    </tr>\n",
       "    <tr>\n",
       "      <th>3</th>\n",
       "      <td>124897</td>\n",
       "      <td>15</td>\n",
       "      <td>1</td>\n",
       "      <td>19</td>\n",
       "      <td>3</td>\n",
       "      <td>2017-11-09 13:51:03</td>\n",
       "      <td>NaN</td>\n",
       "      <td>0</td>\n",
       "    </tr>\n",
       "    <tr>\n",
       "      <th>4</th>\n",
       "      <td>20820</td>\n",
       "      <td>9</td>\n",
       "      <td>1</td>\n",
       "      <td>13</td>\n",
       "      <td>232</td>\n",
       "      <td>2017-11-09 13:51:03</td>\n",
       "      <td>NaN</td>\n",
       "      <td>0</td>\n",
       "    </tr>\n",
       "  </tbody>\n",
       "</table>\n",
       "</div>"
      ],
      "text/plain": [
       "       ip  app  device  os  channel           click_time attributed_time  \\\n",
       "0   90680    9       1  18      489  2017-11-09 13:51:03             NaN   \n",
       "1  110563   18       1  13      107  2017-11-09 13:51:03             NaN   \n",
       "2   96723   18       1  22      121  2017-11-09 13:51:03             NaN   \n",
       "3  124897   15       1  19        3  2017-11-09 13:51:03             NaN   \n",
       "4   20820    9       1  13      232  2017-11-09 13:51:03             NaN   \n",
       "\n",
       "   is_attributed  \n",
       "0              0  \n",
       "1              0  \n",
       "2              0  \n",
       "3              0  \n",
       "4              0  "
      ]
     },
     "execution_count": 9,
     "metadata": {},
     "output_type": "execute_result"
    }
   ],
   "source": [
    "df.head(5)"
   ]
  },
  {
   "cell_type": "code",
   "execution_count": 10,
   "metadata": {
    "ExecuteTime": {
     "end_time": "2018-04-12T17:34:14.562773Z",
     "start_time": "2018-04-12T17:34:14.337523Z"
    }
   },
   "outputs": [],
   "source": [
    "df = df.reindex()"
   ]
  },
  {
   "cell_type": "code",
   "execution_count": 11,
   "metadata": {
    "ExecuteTime": {
     "end_time": "2018-04-12T17:34:58.767794Z",
     "start_time": "2018-04-12T17:34:58.764517Z"
    }
   },
   "outputs": [],
   "source": [
    "train_idx = range(round(df.shape[0]*0.8))"
   ]
  },
  {
   "cell_type": "code",
   "execution_count": 12,
   "metadata": {
    "ExecuteTime": {
     "end_time": "2018-04-12T17:35:00.613820Z",
     "start_time": "2018-04-12T17:35:00.610418Z"
    }
   },
   "outputs": [],
   "source": [
    "val_idx = range(round(df.shape[0]*0.8),round(df.shape[0]*0.8)+round(df.shape[0]*0.1))"
   ]
  },
  {
   "cell_type": "code",
   "execution_count": 13,
   "metadata": {
    "ExecuteTime": {
     "end_time": "2018-04-12T17:35:01.533688Z",
     "start_time": "2018-04-12T17:35:01.530234Z"
    }
   },
   "outputs": [],
   "source": [
    "test_idx = range(round(df.shape[0]*0.8)+round(df.shape[0]*0.1),df.shape[0])"
   ]
  },
  {
   "cell_type": "code",
   "execution_count": 14,
   "metadata": {
    "ExecuteTime": {
     "end_time": "2018-04-12T17:35:04.648238Z",
     "start_time": "2018-04-12T17:35:04.409551Z"
    }
   },
   "outputs": [],
   "source": [
    "df.drop(columns='attributed_time',inplace=True)"
   ]
  },
  {
   "cell_type": "code",
   "execution_count": 15,
   "metadata": {
    "ExecuteTime": {
     "end_time": "2018-04-12T17:35:15.020513Z",
     "start_time": "2018-04-12T17:35:13.812592Z"
    }
   },
   "outputs": [],
   "source": [
    "df['click_time'] = pd.to_datetime(df['click_time'])"
   ]
  },
  {
   "cell_type": "code",
   "execution_count": 16,
   "metadata": {
    "ExecuteTime": {
     "end_time": "2018-04-12T17:35:25.124187Z",
     "start_time": "2018-04-12T17:35:22.999010Z"
    }
   },
   "outputs": [],
   "source": [
    "df['year'] = df['click_time'].dt.year\n",
    "df['month'] = df['click_time'].dt.month\n",
    "df['day'] = df['click_time'].dt.day\n",
    "df['hour'] = df['click_time'].dt.hour\n",
    "df['minute'] = df['click_time'].dt.minute\n",
    "df['second'] = df['click_time'].dt.second\n",
    "df['day_of_week'] = df['click_time'].dt.dayofweek\n",
    "df['day_of_year'] = df['click_time'].dt.dayofyear\n"
   ]
  },
  {
   "cell_type": "code",
   "execution_count": 17,
   "metadata": {
    "ExecuteTime": {
     "end_time": "2018-04-12T17:35:33.010000Z",
     "start_time": "2018-04-12T17:35:32.078212Z"
    }
   },
   "outputs": [],
   "source": [
    "df.drop(columns='click_time',inplace=True)"
   ]
  },
  {
   "cell_type": "code",
   "execution_count": 19,
   "metadata": {
    "ExecuteTime": {
     "end_time": "2018-04-11T01:43:58.397484Z",
     "start_time": "2018-04-11T01:43:58.395493Z"
    }
   },
   "outputs": [],
   "source": [
    "#df = df.reindex()"
   ]
  },
  {
   "cell_type": "code",
   "execution_count": 20,
   "metadata": {
    "ExecuteTime": {
     "end_time": "2018-04-11T01:43:58.414193Z",
     "start_time": "2018-04-11T01:43:58.399226Z"
    }
   },
   "outputs": [
    {
     "data": {
      "text/html": [
       "<div>\n",
       "<style scoped>\n",
       "    .dataframe tbody tr th:only-of-type {\n",
       "        vertical-align: middle;\n",
       "    }\n",
       "\n",
       "    .dataframe tbody tr th {\n",
       "        vertical-align: top;\n",
       "    }\n",
       "\n",
       "    .dataframe thead th {\n",
       "        text-align: right;\n",
       "    }\n",
       "</style>\n",
       "<table border=\"1\" class=\"dataframe\">\n",
       "  <thead>\n",
       "    <tr style=\"text-align: right;\">\n",
       "      <th></th>\n",
       "      <th>ip</th>\n",
       "      <th>app</th>\n",
       "      <th>device</th>\n",
       "      <th>os</th>\n",
       "      <th>channel</th>\n",
       "      <th>is_attributed</th>\n",
       "      <th>year</th>\n",
       "      <th>month</th>\n",
       "      <th>day</th>\n",
       "      <th>hour</th>\n",
       "      <th>minute</th>\n",
       "      <th>second</th>\n",
       "      <th>day_of_week</th>\n",
       "      <th>day_of_year</th>\n",
       "    </tr>\n",
       "  </thead>\n",
       "  <tbody>\n",
       "    <tr>\n",
       "      <th>0</th>\n",
       "      <td>90680</td>\n",
       "      <td>9</td>\n",
       "      <td>1</td>\n",
       "      <td>18</td>\n",
       "      <td>489</td>\n",
       "      <td>0</td>\n",
       "      <td>2017</td>\n",
       "      <td>11</td>\n",
       "      <td>9</td>\n",
       "      <td>13</td>\n",
       "      <td>51</td>\n",
       "      <td>3</td>\n",
       "      <td>3</td>\n",
       "      <td>313</td>\n",
       "    </tr>\n",
       "    <tr>\n",
       "      <th>1</th>\n",
       "      <td>110563</td>\n",
       "      <td>18</td>\n",
       "      <td>1</td>\n",
       "      <td>13</td>\n",
       "      <td>107</td>\n",
       "      <td>0</td>\n",
       "      <td>2017</td>\n",
       "      <td>11</td>\n",
       "      <td>9</td>\n",
       "      <td>13</td>\n",
       "      <td>51</td>\n",
       "      <td>3</td>\n",
       "      <td>3</td>\n",
       "      <td>313</td>\n",
       "    </tr>\n",
       "    <tr>\n",
       "      <th>2</th>\n",
       "      <td>96723</td>\n",
       "      <td>18</td>\n",
       "      <td>1</td>\n",
       "      <td>22</td>\n",
       "      <td>121</td>\n",
       "      <td>0</td>\n",
       "      <td>2017</td>\n",
       "      <td>11</td>\n",
       "      <td>9</td>\n",
       "      <td>13</td>\n",
       "      <td>51</td>\n",
       "      <td>3</td>\n",
       "      <td>3</td>\n",
       "      <td>313</td>\n",
       "    </tr>\n",
       "    <tr>\n",
       "      <th>3</th>\n",
       "      <td>124897</td>\n",
       "      <td>15</td>\n",
       "      <td>1</td>\n",
       "      <td>19</td>\n",
       "      <td>3</td>\n",
       "      <td>0</td>\n",
       "      <td>2017</td>\n",
       "      <td>11</td>\n",
       "      <td>9</td>\n",
       "      <td>13</td>\n",
       "      <td>51</td>\n",
       "      <td>3</td>\n",
       "      <td>3</td>\n",
       "      <td>313</td>\n",
       "    </tr>\n",
       "    <tr>\n",
       "      <th>4</th>\n",
       "      <td>20820</td>\n",
       "      <td>9</td>\n",
       "      <td>1</td>\n",
       "      <td>13</td>\n",
       "      <td>232</td>\n",
       "      <td>0</td>\n",
       "      <td>2017</td>\n",
       "      <td>11</td>\n",
       "      <td>9</td>\n",
       "      <td>13</td>\n",
       "      <td>51</td>\n",
       "      <td>3</td>\n",
       "      <td>3</td>\n",
       "      <td>313</td>\n",
       "    </tr>\n",
       "  </tbody>\n",
       "</table>\n",
       "</div>"
      ],
      "text/plain": [
       "       ip  app  device  os  channel  is_attributed  year  month  day  hour  \\\n",
       "0   90680    9       1  18      489              0  2017     11    9    13   \n",
       "1  110563   18       1  13      107              0  2017     11    9    13   \n",
       "2   96723   18       1  22      121              0  2017     11    9    13   \n",
       "3  124897   15       1  19        3              0  2017     11    9    13   \n",
       "4   20820    9       1  13      232              0  2017     11    9    13   \n",
       "\n",
       "   minute  second  day_of_week  day_of_year  \n",
       "0      51       3            3          313  \n",
       "1      51       3            3          313  \n",
       "2      51       3            3          313  \n",
       "3      51       3            3          313  \n",
       "4      51       3            3          313  "
      ]
     },
     "execution_count": 20,
     "metadata": {},
     "output_type": "execute_result"
    }
   ],
   "source": [
    "df.head(5)"
   ]
  },
  {
   "cell_type": "code",
   "execution_count": 18,
   "metadata": {
    "ExecuteTime": {
     "end_time": "2018-04-12T17:35:42.080798Z",
     "start_time": "2018-04-12T17:35:42.077705Z"
    }
   },
   "outputs": [],
   "source": [
    "cat_vars = ['ip','app','device','os','channel','year','month','day','hour','minute','second','day_of_week','day_of_year']"
   ]
  },
  {
   "cell_type": "code",
   "execution_count": 19,
   "metadata": {
    "ExecuteTime": {
     "end_time": "2018-04-12T17:35:43.038371Z",
     "start_time": "2018-04-12T17:35:43.033879Z"
    }
   },
   "outputs": [],
   "source": [
    "def proc_col(col):\n",
    "        uniq = col.unique()\n",
    "        name2idx = {o:i for i,o in enumerate(uniq)}\n",
    "        return (uniq, name2idx, np.array([name2idx[x] for x in col]), len(uniq))"
   ]
  },
  {
   "cell_type": "code",
   "execution_count": 20,
   "metadata": {
    "ExecuteTime": {
     "end_time": "2018-04-12T17:36:07.234531Z",
     "start_time": "2018-04-12T17:35:44.951878Z"
    }
   },
   "outputs": [],
   "source": [
    "name2idx =[]\n",
    "for v in cat_vars:\n",
    "    _,temp,df[v],_ = proc_col(df[v])\n",
    "    name2idx.append(temp)"
   ]
  },
  {
   "cell_type": "code",
   "execution_count": 89,
   "metadata": {
    "ExecuteTime": {
     "end_time": "2018-04-08T07:04:46.955344Z",
     "start_time": "2018-04-08T07:04:46.944798Z"
    }
   },
   "outputs": [
    {
     "ename": "NameError",
     "evalue": "name 'temp' is not defined",
     "output_type": "error",
     "traceback": [
      "\u001b[0;31m----------------------------------------\u001b[0m",
      "\u001b[0;31mNameError\u001b[0mTraceback (most recent call last)",
      "\u001b[0;32m<ipython-input-89-da77557ed0c8>\u001b[0m in \u001b[0;36m<module>\u001b[0;34m()\u001b[0m\n\u001b[0;32m----> 1\u001b[0;31m \u001b[0mtemp\u001b[0m\u001b[0;34m\u001b[0m\u001b[0m\n\u001b[0m",
      "\u001b[0;31mNameError\u001b[0m: name 'temp' is not defined"
     ]
    }
   ],
   "source": [
    "temp"
   ]
  },
  {
   "cell_type": "code",
   "execution_count": null,
   "metadata": {},
   "outputs": [],
   "source": []
  },
  {
   "cell_type": "code",
   "execution_count": 21,
   "metadata": {
    "ExecuteTime": {
     "end_time": "2018-04-12T17:36:22.896572Z",
     "start_time": "2018-04-12T17:36:19.179056Z"
    }
   },
   "outputs": [],
   "source": [
    "for v in cat_vars: \n",
    "    df[v] = df[v].astype('category').cat.as_ordered().copy()"
   ]
  },
  {
   "cell_type": "code",
   "execution_count": 25,
   "metadata": {
    "ExecuteTime": {
     "end_time": "2018-04-11T01:44:28.777358Z",
     "start_time": "2018-04-11T01:44:28.757844Z"
    }
   },
   "outputs": [
    {
     "data": {
      "text/html": [
       "<div>\n",
       "<style scoped>\n",
       "    .dataframe tbody tr th:only-of-type {\n",
       "        vertical-align: middle;\n",
       "    }\n",
       "\n",
       "    .dataframe tbody tr th {\n",
       "        vertical-align: top;\n",
       "    }\n",
       "\n",
       "    .dataframe thead th {\n",
       "        text-align: right;\n",
       "    }\n",
       "</style>\n",
       "<table border=\"1\" class=\"dataframe\">\n",
       "  <thead>\n",
       "    <tr style=\"text-align: right;\">\n",
       "      <th></th>\n",
       "      <th>ip</th>\n",
       "      <th>app</th>\n",
       "      <th>device</th>\n",
       "      <th>os</th>\n",
       "      <th>channel</th>\n",
       "      <th>is_attributed</th>\n",
       "      <th>year</th>\n",
       "      <th>month</th>\n",
       "      <th>day</th>\n",
       "      <th>hour</th>\n",
       "      <th>minute</th>\n",
       "      <th>second</th>\n",
       "      <th>day_of_week</th>\n",
       "      <th>day_of_year</th>\n",
       "    </tr>\n",
       "  </thead>\n",
       "  <tbody>\n",
       "    <tr>\n",
       "      <th>0</th>\n",
       "      <td>0</td>\n",
       "      <td>0</td>\n",
       "      <td>0</td>\n",
       "      <td>0</td>\n",
       "      <td>0</td>\n",
       "      <td>0</td>\n",
       "      <td>0</td>\n",
       "      <td>0</td>\n",
       "      <td>0</td>\n",
       "      <td>0</td>\n",
       "      <td>0</td>\n",
       "      <td>0</td>\n",
       "      <td>0</td>\n",
       "      <td>0</td>\n",
       "    </tr>\n",
       "    <tr>\n",
       "      <th>1</th>\n",
       "      <td>1</td>\n",
       "      <td>1</td>\n",
       "      <td>0</td>\n",
       "      <td>1</td>\n",
       "      <td>1</td>\n",
       "      <td>0</td>\n",
       "      <td>0</td>\n",
       "      <td>0</td>\n",
       "      <td>0</td>\n",
       "      <td>0</td>\n",
       "      <td>0</td>\n",
       "      <td>0</td>\n",
       "      <td>0</td>\n",
       "      <td>0</td>\n",
       "    </tr>\n",
       "    <tr>\n",
       "      <th>2</th>\n",
       "      <td>2</td>\n",
       "      <td>1</td>\n",
       "      <td>0</td>\n",
       "      <td>2</td>\n",
       "      <td>2</td>\n",
       "      <td>0</td>\n",
       "      <td>0</td>\n",
       "      <td>0</td>\n",
       "      <td>0</td>\n",
       "      <td>0</td>\n",
       "      <td>0</td>\n",
       "      <td>0</td>\n",
       "      <td>0</td>\n",
       "      <td>0</td>\n",
       "    </tr>\n",
       "    <tr>\n",
       "      <th>3</th>\n",
       "      <td>3</td>\n",
       "      <td>2</td>\n",
       "      <td>0</td>\n",
       "      <td>3</td>\n",
       "      <td>3</td>\n",
       "      <td>0</td>\n",
       "      <td>0</td>\n",
       "      <td>0</td>\n",
       "      <td>0</td>\n",
       "      <td>0</td>\n",
       "      <td>0</td>\n",
       "      <td>0</td>\n",
       "      <td>0</td>\n",
       "      <td>0</td>\n",
       "    </tr>\n",
       "    <tr>\n",
       "      <th>4</th>\n",
       "      <td>4</td>\n",
       "      <td>0</td>\n",
       "      <td>0</td>\n",
       "      <td>1</td>\n",
       "      <td>4</td>\n",
       "      <td>0</td>\n",
       "      <td>0</td>\n",
       "      <td>0</td>\n",
       "      <td>0</td>\n",
       "      <td>0</td>\n",
       "      <td>0</td>\n",
       "      <td>0</td>\n",
       "      <td>0</td>\n",
       "      <td>0</td>\n",
       "    </tr>\n",
       "  </tbody>\n",
       "</table>\n",
       "</div>"
      ],
      "text/plain": [
       "  ip app device os channel  is_attributed year month day hour minute second  \\\n",
       "0  0   0      0  0       0              0    0     0   0    0      0      0   \n",
       "1  1   1      0  1       1              0    0     0   0    0      0      0   \n",
       "2  2   1      0  2       2              0    0     0   0    0      0      0   \n",
       "3  3   2      0  3       3              0    0     0   0    0      0      0   \n",
       "4  4   0      0  1       4              0    0     0   0    0      0      0   \n",
       "\n",
       "  day_of_week day_of_year  \n",
       "0           0           0  \n",
       "1           0           0  \n",
       "2           0           0  \n",
       "3           0           0  \n",
       "4           0           0  "
      ]
     },
     "execution_count": 25,
     "metadata": {},
     "output_type": "execute_result"
    }
   ],
   "source": [
    "df.head(5)"
   ]
  },
  {
   "cell_type": "code",
   "execution_count": 22,
   "metadata": {
    "ExecuteTime": {
     "end_time": "2018-04-12T17:36:44.320977Z",
     "start_time": "2018-04-12T17:36:38.758895Z"
    }
   },
   "outputs": [],
   "source": [
    "proc_train = df.loc[list(train_idx)+list(val_idx),:].copy()"
   ]
  },
  {
   "cell_type": "code",
   "execution_count": 68,
   "metadata": {
    "ExecuteTime": {
     "end_time": "2018-04-07T05:01:45.735564Z",
     "start_time": "2018-04-07T05:01:45.306801Z"
    }
   },
   "outputs": [
    {
     "data": {
      "text/plain": [
       "61521"
      ]
     },
     "execution_count": 68,
     "metadata": {},
     "output_type": "execute_result"
    }
   ],
   "source": [
    "max(ip_new)"
   ]
  },
  {
   "cell_type": "code",
   "execution_count": 69,
   "metadata": {
    "ExecuteTime": {
     "end_time": "2018-04-07T05:01:51.505412Z",
     "start_time": "2018-04-07T05:01:50.875221Z"
    }
   },
   "outputs": [
    {
     "data": {
      "text/plain": [
       "61522"
      ]
     },
     "execution_count": 69,
     "metadata": {},
     "output_type": "execute_result"
    }
   ],
   "source": [
    "len(set(proc_train['ip']))"
   ]
  },
  {
   "cell_type": "code",
   "execution_count": 58,
   "metadata": {
    "ExecuteTime": {
     "end_time": "2018-04-07T04:57:54.480779Z",
     "start_time": "2018-04-07T04:57:54.039467Z"
    }
   },
   "outputs": [
    {
     "data": {
      "text/plain": [
       "364778"
      ]
     },
     "execution_count": 58,
     "metadata": {},
     "output_type": "execute_result"
    }
   ],
   "source": [
    "max(proc_train['ip'])"
   ]
  },
  {
   "cell_type": "code",
   "execution_count": 75,
   "metadata": {
    "ExecuteTime": {
     "end_time": "2018-04-07T05:04:19.648052Z",
     "start_time": "2018-04-07T05:04:19.645416Z"
    }
   },
   "outputs": [],
   "source": [
    "ip_df = pd.Series(ip_new)"
   ]
  },
  {
   "cell_type": "code",
   "execution_count": 76,
   "metadata": {
    "ExecuteTime": {
     "end_time": "2018-04-07T05:04:20.875349Z",
     "start_time": "2018-04-07T05:04:20.709669Z"
    }
   },
   "outputs": [],
   "source": [
    "ip_df = ip_df.astype('category').cat.as_ordered().copy()"
   ]
  },
  {
   "cell_type": "code",
   "execution_count": 77,
   "metadata": {
    "ExecuteTime": {
     "end_time": "2018-04-07T05:04:30.237058Z",
     "start_time": "2018-04-07T05:04:30.232282Z"
    }
   },
   "outputs": [
    {
     "data": {
      "text/plain": [
       "61522"
      ]
     },
     "execution_count": 77,
     "metadata": {},
     "output_type": "execute_result"
    }
   ],
   "source": [
    "len(ip_df.cat.categories)"
   ]
  },
  {
   "cell_type": "code",
   "execution_count": 78,
   "metadata": {
    "ExecuteTime": {
     "end_time": "2018-04-07T05:05:35.544262Z",
     "start_time": "2018-04-07T05:05:34.798774Z"
    }
   },
   "outputs": [
    {
     "data": {
      "text/plain": [
       "62805"
      ]
     },
     "execution_count": 78,
     "metadata": {},
     "output_type": "execute_result"
    }
   ],
   "source": [
    "len(set(df['ip']))"
   ]
  },
  {
   "cell_type": "code",
   "execution_count": 23,
   "metadata": {
    "ExecuteTime": {
     "end_time": "2018-04-12T17:36:46.375746Z",
     "start_time": "2018-04-12T17:36:46.371475Z"
    }
   },
   "outputs": [],
   "source": [
    "cat_sz = [(c, len(proc_train[c].cat.categories)+1) for c in cat_vars]"
   ]
  },
  {
   "cell_type": "code",
   "execution_count": 24,
   "metadata": {
    "ExecuteTime": {
     "end_time": "2018-04-12T17:36:46.981473Z",
     "start_time": "2018-04-12T17:36:46.977499Z"
    }
   },
   "outputs": [
    {
     "data": {
      "text/plain": [
       "[('ip', 62806),\n",
       " ('app', 327),\n",
       " ('device', 976),\n",
       " ('os', 280),\n",
       " ('channel', 174),\n",
       " ('year', 2),\n",
       " ('month', 2),\n",
       " ('day', 2),\n",
       " ('hour', 5),\n",
       " ('minute', 61),\n",
       " ('second', 61),\n",
       " ('day_of_week', 2),\n",
       " ('day_of_year', 2)]"
      ]
     },
     "execution_count": 24,
     "metadata": {},
     "output_type": "execute_result"
    }
   ],
   "source": [
    "cat_sz"
   ]
  },
  {
   "cell_type": "code",
   "execution_count": 25,
   "metadata": {
    "ExecuteTime": {
     "end_time": "2018-04-12T17:36:49.225582Z",
     "start_time": "2018-04-12T17:36:49.222311Z"
    }
   },
   "outputs": [],
   "source": [
    "emb_szs = [(c, min(50, (c+1)//2)) for _,c in cat_sz]"
   ]
  },
  {
   "cell_type": "code",
   "execution_count": 26,
   "metadata": {
    "ExecuteTime": {
     "end_time": "2018-04-12T17:36:49.731379Z",
     "start_time": "2018-04-12T17:36:49.727172Z"
    }
   },
   "outputs": [
    {
     "data": {
      "text/plain": [
       "[(62806, 50),\n",
       " (327, 50),\n",
       " (976, 50),\n",
       " (280, 50),\n",
       " (174, 50),\n",
       " (2, 1),\n",
       " (2, 1),\n",
       " (2, 1),\n",
       " (5, 3),\n",
       " (61, 31),\n",
       " (61, 31),\n",
       " (2, 1),\n",
       " (2, 1)]"
      ]
     },
     "execution_count": 26,
     "metadata": {},
     "output_type": "execute_result"
    }
   ],
   "source": [
    "emb_szs"
   ]
  },
  {
   "cell_type": "code",
   "execution_count": 31,
   "metadata": {
    "ExecuteTime": {
     "end_time": "2018-04-11T01:44:35.117779Z",
     "start_time": "2018-04-11T01:44:35.097830Z"
    }
   },
   "outputs": [
    {
     "data": {
      "text/html": [
       "<div>\n",
       "<style scoped>\n",
       "    .dataframe tbody tr th:only-of-type {\n",
       "        vertical-align: middle;\n",
       "    }\n",
       "\n",
       "    .dataframe tbody tr th {\n",
       "        vertical-align: top;\n",
       "    }\n",
       "\n",
       "    .dataframe thead th {\n",
       "        text-align: right;\n",
       "    }\n",
       "</style>\n",
       "<table border=\"1\" class=\"dataframe\">\n",
       "  <thead>\n",
       "    <tr style=\"text-align: right;\">\n",
       "      <th></th>\n",
       "      <th>ip</th>\n",
       "      <th>app</th>\n",
       "      <th>device</th>\n",
       "      <th>os</th>\n",
       "      <th>channel</th>\n",
       "      <th>is_attributed</th>\n",
       "      <th>year</th>\n",
       "      <th>month</th>\n",
       "      <th>day</th>\n",
       "      <th>hour</th>\n",
       "      <th>minute</th>\n",
       "      <th>second</th>\n",
       "      <th>day_of_week</th>\n",
       "      <th>day_of_year</th>\n",
       "    </tr>\n",
       "  </thead>\n",
       "  <tbody>\n",
       "    <tr>\n",
       "      <th>0</th>\n",
       "      <td>0</td>\n",
       "      <td>0</td>\n",
       "      <td>0</td>\n",
       "      <td>0</td>\n",
       "      <td>0</td>\n",
       "      <td>0</td>\n",
       "      <td>0</td>\n",
       "      <td>0</td>\n",
       "      <td>0</td>\n",
       "      <td>0</td>\n",
       "      <td>0</td>\n",
       "      <td>0</td>\n",
       "      <td>0</td>\n",
       "      <td>0</td>\n",
       "    </tr>\n",
       "    <tr>\n",
       "      <th>1</th>\n",
       "      <td>1</td>\n",
       "      <td>1</td>\n",
       "      <td>0</td>\n",
       "      <td>1</td>\n",
       "      <td>1</td>\n",
       "      <td>0</td>\n",
       "      <td>0</td>\n",
       "      <td>0</td>\n",
       "      <td>0</td>\n",
       "      <td>0</td>\n",
       "      <td>0</td>\n",
       "      <td>0</td>\n",
       "      <td>0</td>\n",
       "      <td>0</td>\n",
       "    </tr>\n",
       "    <tr>\n",
       "      <th>2</th>\n",
       "      <td>2</td>\n",
       "      <td>1</td>\n",
       "      <td>0</td>\n",
       "      <td>2</td>\n",
       "      <td>2</td>\n",
       "      <td>0</td>\n",
       "      <td>0</td>\n",
       "      <td>0</td>\n",
       "      <td>0</td>\n",
       "      <td>0</td>\n",
       "      <td>0</td>\n",
       "      <td>0</td>\n",
       "      <td>0</td>\n",
       "      <td>0</td>\n",
       "    </tr>\n",
       "    <tr>\n",
       "      <th>3</th>\n",
       "      <td>3</td>\n",
       "      <td>2</td>\n",
       "      <td>0</td>\n",
       "      <td>3</td>\n",
       "      <td>3</td>\n",
       "      <td>0</td>\n",
       "      <td>0</td>\n",
       "      <td>0</td>\n",
       "      <td>0</td>\n",
       "      <td>0</td>\n",
       "      <td>0</td>\n",
       "      <td>0</td>\n",
       "      <td>0</td>\n",
       "      <td>0</td>\n",
       "    </tr>\n",
       "    <tr>\n",
       "      <th>4</th>\n",
       "      <td>4</td>\n",
       "      <td>0</td>\n",
       "      <td>0</td>\n",
       "      <td>1</td>\n",
       "      <td>4</td>\n",
       "      <td>0</td>\n",
       "      <td>0</td>\n",
       "      <td>0</td>\n",
       "      <td>0</td>\n",
       "      <td>0</td>\n",
       "      <td>0</td>\n",
       "      <td>0</td>\n",
       "      <td>0</td>\n",
       "      <td>0</td>\n",
       "    </tr>\n",
       "  </tbody>\n",
       "</table>\n",
       "</div>"
      ],
      "text/plain": [
       "  ip app device os channel  is_attributed year month day hour minute second  \\\n",
       "0  0   0      0  0       0              0    0     0   0    0      0      0   \n",
       "1  1   1      0  1       1              0    0     0   0    0      0      0   \n",
       "2  2   1      0  2       2              0    0     0   0    0      0      0   \n",
       "3  3   2      0  3       3              0    0     0   0    0      0      0   \n",
       "4  4   0      0  1       4              0    0     0   0    0      0      0   \n",
       "\n",
       "  day_of_week day_of_year  \n",
       "0           0           0  \n",
       "1           0           0  \n",
       "2           0           0  \n",
       "3           0           0  \n",
       "4           0           0  "
      ]
     },
     "execution_count": 31,
     "metadata": {},
     "output_type": "execute_result"
    }
   ],
   "source": [
    "proc_train.head(5)"
   ]
  },
  {
   "cell_type": "code",
   "execution_count": 27,
   "metadata": {
    "ExecuteTime": {
     "end_time": "2018-04-12T17:36:54.294594Z",
     "start_time": "2018-04-12T17:36:54.269021Z"
    }
   },
   "outputs": [],
   "source": [
    "df_model = proc_train.drop(columns='is_attributed')"
   ]
  },
  {
   "cell_type": "code",
   "execution_count": 28,
   "metadata": {
    "ExecuteTime": {
     "end_time": "2018-04-12T17:36:55.211452Z",
     "start_time": "2018-04-12T17:36:55.208398Z"
    }
   },
   "outputs": [],
   "source": [
    "y = proc_train['is_attributed'].values"
   ]
  },
  {
   "cell_type": "code",
   "execution_count": 34,
   "metadata": {
    "ExecuteTime": {
     "end_time": "2018-04-11T01:44:35.155380Z",
     "start_time": "2018-04-11T01:44:35.150284Z"
    }
   },
   "outputs": [
    {
     "data": {
      "text/plain": [
       "array([0, 0, 0, 0, 0, 0, 0, 0, 0, 0, 0, 0, 0, 0, 0, 0, 0, 0, 0, 0, ..., 0, 0, 0, 0, 0, 0, 0, 0, 0, 0, 0, 0,\n",
       "       0, 0, 0, 0, 0, 0, 0, 0])"
      ]
     },
     "execution_count": 34,
     "metadata": {},
     "output_type": "execute_result"
    }
   ],
   "source": [
    "y"
   ]
  },
  {
   "cell_type": "code",
   "execution_count": 35,
   "metadata": {
    "ExecuteTime": {
     "end_time": "2018-04-11T01:44:35.161333Z",
     "start_time": "2018-04-11T01:44:35.157508Z"
    }
   },
   "outputs": [
    {
     "data": {
      "text/plain": [
       "(6300000, 13)"
      ]
     },
     "execution_count": 35,
     "metadata": {},
     "output_type": "execute_result"
    }
   ],
   "source": [
    "df_model.shape"
   ]
  },
  {
   "cell_type": "code",
   "execution_count": 29,
   "metadata": {
    "ExecuteTime": {
     "end_time": "2018-04-12T17:37:00.982729Z",
     "start_time": "2018-04-12T17:37:00.741004Z"
    }
   },
   "outputs": [],
   "source": [
    "df_model_test = df.loc[test_idx,:].copy()"
   ]
  },
  {
   "cell_type": "markdown",
   "metadata": {
    "ExecuteTime": {
     "end_time": "2018-04-06T04:48:28.307237Z",
     "start_time": "2018-04-06T04:48:28.304490Z"
    }
   },
   "source": [
    "### fastai student's class"
   ]
  },
  {
   "cell_type": "code",
   "execution_count": 41,
   "metadata": {
    "ExecuteTime": {
     "end_time": "2018-04-06T04:59:17.401698Z",
     "start_time": "2018-04-06T04:59:17.397482Z"
    }
   },
   "outputs": [
    {
     "data": {
      "text/plain": [
       "True"
      ]
     },
     "execution_count": 41,
     "metadata": {},
     "output_type": "execute_result"
    }
   ],
   "source": [
    "torch.cuda.is_available()"
   ]
  },
  {
   "cell_type": "markdown",
   "metadata": {},
   "source": [
    "### Jeremy's class"
   ]
  },
  {
   "cell_type": "code",
   "execution_count": 30,
   "metadata": {
    "ExecuteTime": {
     "end_time": "2018-04-12T17:37:07.863045Z",
     "start_time": "2018-04-12T17:37:05.355140Z"
    }
   },
   "outputs": [],
   "source": [
    "md = ColumnarModelData.from_data_frame(path, val_idx, df_model, y.astype(np.int32), cat_flds=cat_vars, bs=128,is_reg=False,test_df=df_model_test)"
   ]
  },
  {
   "cell_type": "code",
   "execution_count": 31,
   "metadata": {
    "ExecuteTime": {
     "end_time": "2018-04-12T17:38:50.695285Z",
     "start_time": "2018-04-12T17:38:47.143434Z"
    }
   },
   "outputs": [],
   "source": [
    "m = md.get_learner(emb_szs, len(df_model.columns)-len(cat_vars),0.04, 2, [1000,500], [0.001,0.01])\n",
    "#lr = 1e-3"
   ]
  },
  {
   "cell_type": "code",
   "execution_count": 34,
   "metadata": {
    "ExecuteTime": {
     "end_time": "2018-04-12T17:43:56.142583Z",
     "start_time": "2018-04-12T17:43:56.138219Z"
    }
   },
   "outputs": [
    {
     "data": {
      "text/plain": [
       "MixedInputModel(\n",
       "  (embs): ModuleList(\n",
       "    (0): Embedding(62806, 50)\n",
       "    (1): Embedding(327, 50)\n",
       "    (2): Embedding(976, 50)\n",
       "    (3): Embedding(280, 50)\n",
       "    (4): Embedding(174, 50)\n",
       "    (5): Embedding(2, 1)\n",
       "    (6): Embedding(2, 1)\n",
       "    (7): Embedding(2, 1)\n",
       "    (8): Embedding(5, 3)\n",
       "    (9): Embedding(61, 31)\n",
       "    (10): Embedding(61, 31)\n",
       "    (11): Embedding(2, 1)\n",
       "    (12): Embedding(2, 1)\n",
       "  )\n",
       "  (lins): ModuleList(\n",
       "    (0): Linear(in_features=320, out_features=1000, bias=True)\n",
       "    (1): Linear(in_features=1000, out_features=500, bias=True)\n",
       "  )\n",
       "  (bns): ModuleList(\n",
       "    (0): BatchNorm1d(1000, eps=1e-05, momentum=0.1, affine=True)\n",
       "    (1): BatchNorm1d(500, eps=1e-05, momentum=0.1, affine=True)\n",
       "  )\n",
       "  (outp): Linear(in_features=500, out_features=2, bias=True)\n",
       "  (emb_drop): Dropout(p=0.04)\n",
       "  (drops): ModuleList(\n",
       "    (0): Dropout(p=0.001)\n",
       "    (1): Dropout(p=0.01)\n",
       "  )\n",
       "  (bn): BatchNorm1d(0, eps=1e-05, momentum=0.1, affine=True)\n",
       ")"
      ]
     },
     "execution_count": 34,
     "metadata": {},
     "output_type": "execute_result"
    }
   ],
   "source": [
    "m"
   ]
  },
  {
   "cell_type": "code",
   "execution_count": 35,
   "metadata": {
    "ExecuteTime": {
     "end_time": "2018-04-12T17:45:53.329120Z",
     "start_time": "2018-04-12T17:44:02.185838Z"
    }
   },
   "outputs": [
    {
     "data": {
      "application/vnd.jupyter.widget-view+json": {
       "model_id": "48e44e68a9514ac3beca13e50a7efd0f",
       "version_major": 2,
       "version_minor": 0
      },
      "text/html": [
       "<p>Failed to display Jupyter Widget of type <code>HBox</code>.</p>\n",
       "<p>\n",
       "  If you're reading this message in the Jupyter Notebook or JupyterLab Notebook, it may mean\n",
       "  that the widgets JavaScript is still loading. If this message persists, it\n",
       "  likely means that the widgets JavaScript library is either not installed or\n",
       "  not enabled. See the <a href=\"https://ipywidgets.readthedocs.io/en/stable/user_install.html\">Jupyter\n",
       "  Widgets Documentation</a> for setup instructions.\n",
       "</p>\n",
       "<p>\n",
       "  If you're reading this message in another frontend (for example, a static\n",
       "  rendering on GitHub or <a href=\"https://nbviewer.jupyter.org/\">NBViewer</a>),\n",
       "  it may mean that your frontend doesn't currently support widgets.\n",
       "</p>\n"
      ],
      "text/plain": [
       "HBox(children=(IntProgress(value=0, description='Epoch', max=1), HTML(value='')))"
      ]
     },
     "metadata": {},
     "output_type": "display_data"
    },
    {
     "name": "stdout",
     "output_type": "stream",
     "text": [
      "  0%|          | 201/43750 [00:01<06:00, 120.87it/s, loss=0.244]   \n",
      "  1%|          | 231/43750 [00:01<05:49, 124.45it/s, loss=0.2]  "
     ]
    },
    {
     "name": "stderr",
     "output_type": "stream",
     "text": [
      "Exception in thread Thread-4:\n",
      "Traceback (most recent call last):\n",
      "  File \"/home/paperspace/anaconda3/envs/fastai/lib/python3.6/threading.py\", line 916, in _bootstrap_inner\n",
      "    self.run()\n",
      "  File \"/home/paperspace/anaconda3/envs/fastai/lib/python3.6/site-packages/tqdm/_tqdm.py\", line 144, in run\n",
      "    for instance in self.tqdm_cls._instances:\n",
      "  File \"/home/paperspace/anaconda3/envs/fastai/lib/python3.6/_weakrefset.py\", line 60, in __iter__\n",
      "    for itemref in self.data:\n",
      "RuntimeError: Set changed size during iteration\n",
      "\n"
     ]
    },
    {
     "name": "stdout",
     "output_type": "stream",
     "text": [
      " 37%|███▋      | 15979/43750 [01:51<03:12, 143.89it/s, loss=0.0128] \n"
     ]
    }
   ],
   "source": [
    "m.lr_find(start_lr=1e-5, end_lr=10)"
   ]
  },
  {
   "cell_type": "code",
   "execution_count": 109,
   "metadata": {
    "ExecuteTime": {
     "end_time": "2018-04-07T05:12:50.923707Z",
     "start_time": "2018-04-07T05:12:50.921052Z"
    }
   },
   "outputs": [],
   "source": [
    "import pdb"
   ]
  },
  {
   "cell_type": "code",
   "execution_count": 39,
   "metadata": {
    "ExecuteTime": {
     "end_time": "2018-04-11T01:59:48.709217Z",
     "start_time": "2018-04-11T01:52:52.922949Z"
    }
   },
   "outputs": [
    {
     "data": {
      "application/vnd.jupyter.widget-view+json": {
       "model_id": "9c250c51b56d4cb49524775c3f451000",
       "version_major": 2,
       "version_minor": 0
      },
      "text/html": [
       "<p>Failed to display Jupyter Widget of type <code>HBox</code>.</p>\n",
       "<p>\n",
       "  If you're reading this message in the Jupyter Notebook or JupyterLab Notebook, it may mean\n",
       "  that the widgets JavaScript is still loading. If this message persists, it\n",
       "  likely means that the widgets JavaScript library is either not installed or\n",
       "  not enabled. See the <a href=\"https://ipywidgets.readthedocs.io/en/stable/user_install.html\">Jupyter\n",
       "  Widgets Documentation</a> for setup instructions.\n",
       "</p>\n",
       "<p>\n",
       "  If you're reading this message in another frontend (for example, a static\n",
       "  rendering on GitHub or <a href=\"https://nbviewer.jupyter.org/\">NBViewer</a>),\n",
       "  it may mean that your frontend doesn't currently support widgets.\n",
       "</p>\n"
      ],
      "text/plain": [
       "HBox(children=(IntProgress(value=0, description='Epoch', max=1), HTML(value='')))"
      ]
     },
     "metadata": {},
     "output_type": "display_data"
    },
    {
     "name": "stdout",
     "output_type": "stream",
     "text": [
      "epoch      trn_loss   val_loss                                      \n",
      "    0      0.003895   0.003531  \n",
      "\n"
     ]
    },
    {
     "data": {
      "text/plain": [
       "[0.003530819462754864]"
      ]
     },
     "execution_count": 39,
     "metadata": {},
     "output_type": "execute_result"
    }
   ],
   "source": [
    "#pdb.set_trace()\n",
    "m.fit(lr, 1)"
   ]
  },
  {
   "cell_type": "code",
   "execution_count": 42,
   "metadata": {
    "ExecuteTime": {
     "end_time": "2018-04-11T02:06:55.982186Z",
     "start_time": "2018-04-11T02:06:42.520606Z"
    }
   },
   "outputs": [],
   "source": [
    "pred_test = m.predict(True)"
   ]
  },
  {
   "cell_type": "code",
   "execution_count": 43,
   "metadata": {
    "ExecuteTime": {
     "end_time": "2018-04-11T02:06:55.989947Z",
     "start_time": "2018-04-11T02:06:55.986506Z"
    }
   },
   "outputs": [
    {
     "data": {
      "text/plain": [
       "700000"
      ]
     },
     "execution_count": 43,
     "metadata": {},
     "output_type": "execute_result"
    }
   ],
   "source": [
    "len(pred_test)"
   ]
  },
  {
   "cell_type": "code",
   "execution_count": 44,
   "metadata": {
    "ExecuteTime": {
     "end_time": "2018-04-11T02:06:55.996606Z",
     "start_time": "2018-04-11T02:06:55.992270Z"
    }
   },
   "outputs": [
    {
     "data": {
      "text/plain": [
       "700000"
      ]
     },
     "execution_count": 44,
     "metadata": {},
     "output_type": "execute_result"
    }
   ],
   "source": [
    "len(df_model_test.index)"
   ]
  },
  {
   "cell_type": "code",
   "execution_count": 45,
   "metadata": {
    "ExecuteTime": {
     "end_time": "2018-04-11T02:06:56.243135Z",
     "start_time": "2018-04-11T02:06:55.998762Z"
    }
   },
   "outputs": [],
   "source": [
    "y_test = df.loc[test_idx,:]['is_attributed'].values"
   ]
  },
  {
   "cell_type": "code",
   "execution_count": 46,
   "metadata": {
    "ExecuteTime": {
     "end_time": "2018-04-11T02:06:56.248732Z",
     "start_time": "2018-04-11T02:06:56.245061Z"
    }
   },
   "outputs": [
    {
     "data": {
      "text/plain": [
       "700000"
      ]
     },
     "execution_count": 46,
     "metadata": {},
     "output_type": "execute_result"
    }
   ],
   "source": [
    "len(y_test)"
   ]
  },
  {
   "cell_type": "code",
   "execution_count": 47,
   "metadata": {
    "ExecuteTime": {
     "end_time": "2018-04-11T02:07:14.657293Z",
     "start_time": "2018-04-11T02:07:13.499972Z"
    }
   },
   "outputs": [],
   "source": [
    "pred_test_index = [np.argmax(i) for i in pred_test]"
   ]
  },
  {
   "cell_type": "code",
   "execution_count": 48,
   "metadata": {
    "ExecuteTime": {
     "end_time": "2018-04-11T02:07:15.449322Z",
     "start_time": "2018-04-11T02:07:15.406779Z"
    }
   },
   "outputs": [
    {
     "data": {
      "text/plain": [
       "709"
      ]
     },
     "execution_count": 48,
     "metadata": {},
     "output_type": "execute_result"
    }
   ],
   "source": [
    "sum(pred_test_index)"
   ]
  },
  {
   "cell_type": "code",
   "execution_count": 49,
   "metadata": {
    "ExecuteTime": {
     "end_time": "2018-04-11T02:07:19.502322Z",
     "start_time": "2018-04-11T02:07:19.456155Z"
    }
   },
   "outputs": [
    {
     "data": {
      "text/plain": [
       "0.0010128571428571428"
      ]
     },
     "execution_count": 49,
     "metadata": {},
     "output_type": "execute_result"
    }
   ],
   "source": [
    "sum(pred_test_index)/len(pred_test_index)"
   ]
  },
  {
   "cell_type": "code",
   "execution_count": 55,
   "metadata": {
    "ExecuteTime": {
     "end_time": "2018-04-08T06:43:35.245981Z",
     "start_time": "2018-04-08T06:43:35.242157Z"
    }
   },
   "outputs": [
    {
     "data": {
      "text/plain": [
       "7000000"
      ]
     },
     "execution_count": 55,
     "metadata": {},
     "output_type": "execute_result"
    }
   ],
   "source": []
  },
  {
   "cell_type": "code",
   "execution_count": 50,
   "metadata": {
    "ExecuteTime": {
     "end_time": "2018-04-11T02:07:40.007108Z",
     "start_time": "2018-04-11T02:07:39.859761Z"
    }
   },
   "outputs": [
    {
     "data": {
      "text/plain": [
       "0.001991142857142857"
      ]
     },
     "execution_count": 50,
     "metadata": {},
     "output_type": "execute_result"
    }
   ],
   "source": [
    "sum(df['is_attributed'])/len(df)"
   ]
  },
  {
   "cell_type": "code",
   "execution_count": 53,
   "metadata": {
    "ExecuteTime": {
     "end_time": "2018-04-11T02:09:53.702784Z",
     "start_time": "2018-04-11T02:09:53.653319Z"
    }
   },
   "outputs": [
    {
     "data": {
      "text/plain": [
       "0"
      ]
     },
     "execution_count": 53,
     "metadata": {},
     "output_type": "execute_result"
    }
   ],
   "source": [
    "sum(df_model_test['app'].isin(df_model))"
   ]
  },
  {
   "cell_type": "code",
   "execution_count": null,
   "metadata": {},
   "outputs": [],
   "source": [
    "df"
   ]
  },
  {
   "cell_type": "code",
   "execution_count": 61,
   "metadata": {
    "ExecuteTime": {
     "end_time": "2018-04-08T06:45:23.672354Z",
     "start_time": "2018-04-08T06:45:23.563665Z"
    }
   },
   "outputs": [
    {
     "data": {
      "text/plain": [
       "0.5"
      ]
     },
     "execution_count": 61,
     "metadata": {},
     "output_type": "execute_result"
    }
   ],
   "source": [
    "auc(np.array(pred_test_index),y_test,reorder=True)"
   ]
  },
  {
   "cell_type": "markdown",
   "metadata": {},
   "source": [
    "### Predict on real test data"
   ]
  },
  {
   "cell_type": "markdown",
   "metadata": {},
   "source": [
    "#### Read test data"
   ]
  },
  {
   "cell_type": "code",
   "execution_count": 120,
   "metadata": {
    "ExecuteTime": {
     "end_time": "2018-04-08T07:15:33.533891Z",
     "start_time": "2018-04-08T07:15:18.493425Z"
    }
   },
   "outputs": [],
   "source": [
    "test = pd.read_csv(path+'test.csv.zip',compression='zip',low_memory=True)"
   ]
  },
  {
   "cell_type": "code",
   "execution_count": 121,
   "metadata": {
    "ExecuteTime": {
     "end_time": "2018-04-08T07:15:33.545601Z",
     "start_time": "2018-04-08T07:15:33.535673Z"
    }
   },
   "outputs": [
    {
     "data": {
      "text/html": [
       "<div>\n",
       "<style scoped>\n",
       "    .dataframe tbody tr th:only-of-type {\n",
       "        vertical-align: middle;\n",
       "    }\n",
       "\n",
       "    .dataframe tbody tr th {\n",
       "        vertical-align: top;\n",
       "    }\n",
       "\n",
       "    .dataframe thead th {\n",
       "        text-align: right;\n",
       "    }\n",
       "</style>\n",
       "<table border=\"1\" class=\"dataframe\">\n",
       "  <thead>\n",
       "    <tr style=\"text-align: right;\">\n",
       "      <th></th>\n",
       "      <th>click_id</th>\n",
       "      <th>ip</th>\n",
       "      <th>app</th>\n",
       "      <th>device</th>\n",
       "      <th>os</th>\n",
       "      <th>channel</th>\n",
       "      <th>click_time</th>\n",
       "    </tr>\n",
       "  </thead>\n",
       "  <tbody>\n",
       "    <tr>\n",
       "      <th>0</th>\n",
       "      <td>0</td>\n",
       "      <td>5744</td>\n",
       "      <td>9</td>\n",
       "      <td>1</td>\n",
       "      <td>3</td>\n",
       "      <td>107</td>\n",
       "      <td>2017-11-10 04:00:00</td>\n",
       "    </tr>\n",
       "    <tr>\n",
       "      <th>1</th>\n",
       "      <td>1</td>\n",
       "      <td>119901</td>\n",
       "      <td>9</td>\n",
       "      <td>1</td>\n",
       "      <td>3</td>\n",
       "      <td>466</td>\n",
       "      <td>2017-11-10 04:00:00</td>\n",
       "    </tr>\n",
       "    <tr>\n",
       "      <th>2</th>\n",
       "      <td>2</td>\n",
       "      <td>72287</td>\n",
       "      <td>21</td>\n",
       "      <td>1</td>\n",
       "      <td>19</td>\n",
       "      <td>128</td>\n",
       "      <td>2017-11-10 04:00:00</td>\n",
       "    </tr>\n",
       "    <tr>\n",
       "      <th>3</th>\n",
       "      <td>3</td>\n",
       "      <td>78477</td>\n",
       "      <td>15</td>\n",
       "      <td>1</td>\n",
       "      <td>13</td>\n",
       "      <td>111</td>\n",
       "      <td>2017-11-10 04:00:00</td>\n",
       "    </tr>\n",
       "    <tr>\n",
       "      <th>4</th>\n",
       "      <td>4</td>\n",
       "      <td>123080</td>\n",
       "      <td>12</td>\n",
       "      <td>1</td>\n",
       "      <td>13</td>\n",
       "      <td>328</td>\n",
       "      <td>2017-11-10 04:00:00</td>\n",
       "    </tr>\n",
       "  </tbody>\n",
       "</table>\n",
       "</div>"
      ],
      "text/plain": [
       "   click_id      ip  app  device  os  channel           click_time\n",
       "0         0    5744    9       1   3      107  2017-11-10 04:00:00\n",
       "1         1  119901    9       1   3      466  2017-11-10 04:00:00\n",
       "2         2   72287   21       1  19      128  2017-11-10 04:00:00\n",
       "3         3   78477   15       1  13      111  2017-11-10 04:00:00\n",
       "4         4  123080   12       1  13      328  2017-11-10 04:00:00"
      ]
     },
     "execution_count": 121,
     "metadata": {},
     "output_type": "execute_result"
    }
   ],
   "source": [
    "test.head(5)"
   ]
  },
  {
   "cell_type": "code",
   "execution_count": 122,
   "metadata": {
    "ExecuteTime": {
     "end_time": "2018-04-08T07:15:33.550408Z",
     "start_time": "2018-04-08T07:15:33.547340Z"
    }
   },
   "outputs": [
    {
     "data": {
      "text/plain": [
       "(18790469, 7)"
      ]
     },
     "execution_count": 122,
     "metadata": {},
     "output_type": "execute_result"
    }
   ],
   "source": [
    "test.shape"
   ]
  },
  {
   "cell_type": "code",
   "execution_count": 123,
   "metadata": {
    "ExecuteTime": {
     "end_time": "2018-04-08T07:15:33.994613Z",
     "start_time": "2018-04-08T07:15:33.551929Z"
    }
   },
   "outputs": [],
   "source": [
    "test = test.reindex()"
   ]
  },
  {
   "cell_type": "code",
   "execution_count": 124,
   "metadata": {
    "ExecuteTime": {
     "end_time": "2018-04-08T07:15:37.608478Z",
     "start_time": "2018-04-08T07:15:33.996140Z"
    }
   },
   "outputs": [],
   "source": [
    "test['click_time'] = pd.to_datetime(test['click_time'])"
   ]
  },
  {
   "cell_type": "code",
   "execution_count": 125,
   "metadata": {
    "ExecuteTime": {
     "end_time": "2018-04-08T07:15:43.757500Z",
     "start_time": "2018-04-08T07:15:37.610218Z"
    }
   },
   "outputs": [],
   "source": [
    "test['year'] = test['click_time'].dt.year\n",
    "test['month'] = test['click_time'].dt.month\n",
    "test['day'] = test['click_time'].dt.day\n",
    "test['hour'] = test['click_time'].dt.hour\n",
    "test['minute'] = test['click_time'].dt.minute\n",
    "test['second'] = test['click_time'].dt.second\n",
    "test['day_of_week'] = test['click_time'].dt.dayofweek\n",
    "test['day_of_year'] = test['click_time'].dt.dayofyear\n"
   ]
  },
  {
   "cell_type": "code",
   "execution_count": 126,
   "metadata": {
    "ExecuteTime": {
     "end_time": "2018-04-08T07:16:16.908094Z",
     "start_time": "2018-04-08T07:16:14.225642Z"
    }
   },
   "outputs": [],
   "source": [
    "test.drop(columns='click_time',inplace=True)"
   ]
  },
  {
   "cell_type": "code",
   "execution_count": 127,
   "metadata": {
    "ExecuteTime": {
     "end_time": "2018-04-08T07:16:17.760440Z",
     "start_time": "2018-04-08T07:16:16.909845Z"
    }
   },
   "outputs": [],
   "source": [
    "test.drop(columns='click_id',inplace=True)"
   ]
  },
  {
   "cell_type": "code",
   "execution_count": 128,
   "metadata": {
    "ExecuteTime": {
     "end_time": "2018-04-08T07:16:21.022102Z",
     "start_time": "2018-04-08T07:16:21.008544Z"
    }
   },
   "outputs": [
    {
     "data": {
      "text/html": [
       "<div>\n",
       "<style scoped>\n",
       "    .dataframe tbody tr th:only-of-type {\n",
       "        vertical-align: middle;\n",
       "    }\n",
       "\n",
       "    .dataframe tbody tr th {\n",
       "        vertical-align: top;\n",
       "    }\n",
       "\n",
       "    .dataframe thead th {\n",
       "        text-align: right;\n",
       "    }\n",
       "</style>\n",
       "<table border=\"1\" class=\"dataframe\">\n",
       "  <thead>\n",
       "    <tr style=\"text-align: right;\">\n",
       "      <th></th>\n",
       "      <th>ip</th>\n",
       "      <th>app</th>\n",
       "      <th>device</th>\n",
       "      <th>os</th>\n",
       "      <th>channel</th>\n",
       "      <th>year</th>\n",
       "      <th>month</th>\n",
       "      <th>day</th>\n",
       "      <th>hour</th>\n",
       "      <th>minute</th>\n",
       "      <th>second</th>\n",
       "      <th>day_of_week</th>\n",
       "      <th>day_of_year</th>\n",
       "    </tr>\n",
       "  </thead>\n",
       "  <tbody>\n",
       "    <tr>\n",
       "      <th>0</th>\n",
       "      <td>5744</td>\n",
       "      <td>9</td>\n",
       "      <td>1</td>\n",
       "      <td>3</td>\n",
       "      <td>107</td>\n",
       "      <td>2017</td>\n",
       "      <td>11</td>\n",
       "      <td>10</td>\n",
       "      <td>4</td>\n",
       "      <td>0</td>\n",
       "      <td>0</td>\n",
       "      <td>4</td>\n",
       "      <td>314</td>\n",
       "    </tr>\n",
       "    <tr>\n",
       "      <th>1</th>\n",
       "      <td>119901</td>\n",
       "      <td>9</td>\n",
       "      <td>1</td>\n",
       "      <td>3</td>\n",
       "      <td>466</td>\n",
       "      <td>2017</td>\n",
       "      <td>11</td>\n",
       "      <td>10</td>\n",
       "      <td>4</td>\n",
       "      <td>0</td>\n",
       "      <td>0</td>\n",
       "      <td>4</td>\n",
       "      <td>314</td>\n",
       "    </tr>\n",
       "    <tr>\n",
       "      <th>2</th>\n",
       "      <td>72287</td>\n",
       "      <td>21</td>\n",
       "      <td>1</td>\n",
       "      <td>19</td>\n",
       "      <td>128</td>\n",
       "      <td>2017</td>\n",
       "      <td>11</td>\n",
       "      <td>10</td>\n",
       "      <td>4</td>\n",
       "      <td>0</td>\n",
       "      <td>0</td>\n",
       "      <td>4</td>\n",
       "      <td>314</td>\n",
       "    </tr>\n",
       "    <tr>\n",
       "      <th>3</th>\n",
       "      <td>78477</td>\n",
       "      <td>15</td>\n",
       "      <td>1</td>\n",
       "      <td>13</td>\n",
       "      <td>111</td>\n",
       "      <td>2017</td>\n",
       "      <td>11</td>\n",
       "      <td>10</td>\n",
       "      <td>4</td>\n",
       "      <td>0</td>\n",
       "      <td>0</td>\n",
       "      <td>4</td>\n",
       "      <td>314</td>\n",
       "    </tr>\n",
       "    <tr>\n",
       "      <th>4</th>\n",
       "      <td>123080</td>\n",
       "      <td>12</td>\n",
       "      <td>1</td>\n",
       "      <td>13</td>\n",
       "      <td>328</td>\n",
       "      <td>2017</td>\n",
       "      <td>11</td>\n",
       "      <td>10</td>\n",
       "      <td>4</td>\n",
       "      <td>0</td>\n",
       "      <td>0</td>\n",
       "      <td>4</td>\n",
       "      <td>314</td>\n",
       "    </tr>\n",
       "  </tbody>\n",
       "</table>\n",
       "</div>"
      ],
      "text/plain": [
       "       ip  app  device  os  channel  year  month  day  hour  minute  second  \\\n",
       "0    5744    9       1   3      107  2017     11   10     4       0       0   \n",
       "1  119901    9       1   3      466  2017     11   10     4       0       0   \n",
       "2   72287   21       1  19      128  2017     11   10     4       0       0   \n",
       "3   78477   15       1  13      111  2017     11   10     4       0       0   \n",
       "4  123080   12       1  13      328  2017     11   10     4       0       0   \n",
       "\n",
       "   day_of_week  day_of_year  \n",
       "0            4          314  \n",
       "1            4          314  \n",
       "2            4          314  \n",
       "3            4          314  \n",
       "4            4          314  "
      ]
     },
     "execution_count": 128,
     "metadata": {},
     "output_type": "execute_result"
    }
   ],
   "source": [
    "test.head(5)"
   ]
  },
  {
   "cell_type": "code",
   "execution_count": null,
   "metadata": {},
   "outputs": [],
   "source": [
    "for v in cat_vars:\n",
    "    try:\n",
    "        test[v] = name2idx[cat_vars.index(v)]\n",
    "    except:\n",
    "        test"
   ]
  },
  {
   "cell_type": "code",
   "execution_count": 131,
   "metadata": {
    "ExecuteTime": {
     "end_time": "2018-04-08T07:21:09.831429Z",
     "start_time": "2018-04-08T07:21:09.183253Z"
    }
   },
   "outputs": [
    {
     "ename": "TypeError",
     "evalue": "'int' object is not subscriptable",
     "output_type": "error",
     "traceback": [
      "\u001b[0;31m----------------------------------------\u001b[0m",
      "\u001b[0;31mTypeError\u001b[0mTraceback (most recent call last)",
      "\u001b[0;32m<ipython-input-131-c336119a17ba>\u001b[0m in \u001b[0;36m<module>\u001b[0;34m()\u001b[0m\n\u001b[0;32m----> 1\u001b[0;31m \u001b[0mtest\u001b[0m\u001b[0;34m[\u001b[0m\u001b[0;34m'ip'\u001b[0m\u001b[0;34m]\u001b[0m\u001b[0;34m.\u001b[0m\u001b[0mmap\u001b[0m\u001b[0;34m(\u001b[0m\u001b[0;32mlambda\u001b[0m \u001b[0mx\u001b[0m\u001b[0;34m:\u001b[0m\u001b[0mx\u001b[0m\u001b[0;34m[\u001b[0m\u001b[0mname2idx\u001b[0m\u001b[0;34m[\u001b[0m\u001b[0;36m0\u001b[0m\u001b[0;34m]\u001b[0m\u001b[0;34m]\u001b[0m\u001b[0;34m)\u001b[0m\u001b[0;34m\u001b[0m\u001b[0m\n\u001b[0m",
      "\u001b[0;32m~/anaconda3/envs/fastai/lib/python3.6/site-packages/pandas/core/series.py\u001b[0m in \u001b[0;36mmap\u001b[0;34m(self, arg, na_action)\u001b[0m\n\u001b[1;32m   2352\u001b[0m         \u001b[0;32melse\u001b[0m\u001b[0;34m:\u001b[0m\u001b[0;34m\u001b[0m\u001b[0m\n\u001b[1;32m   2353\u001b[0m             \u001b[0;31m# arg is a function\u001b[0m\u001b[0;34m\u001b[0m\u001b[0;34m\u001b[0m\u001b[0m\n\u001b[0;32m-> 2354\u001b[0;31m             \u001b[0mnew_values\u001b[0m \u001b[0;34m=\u001b[0m \u001b[0mmap_f\u001b[0m\u001b[0;34m(\u001b[0m\u001b[0mvalues\u001b[0m\u001b[0;34m,\u001b[0m \u001b[0marg\u001b[0m\u001b[0;34m)\u001b[0m\u001b[0;34m\u001b[0m\u001b[0m\n\u001b[0m\u001b[1;32m   2355\u001b[0m \u001b[0;34m\u001b[0m\u001b[0m\n\u001b[1;32m   2356\u001b[0m         return self._constructor(new_values,\n",
      "\u001b[0;32mpandas/_libs/src/inference.pyx\u001b[0m in \u001b[0;36mpandas._libs.lib.map_infer\u001b[0;34m()\u001b[0m\n",
      "\u001b[0;32m<ipython-input-131-c336119a17ba>\u001b[0m in \u001b[0;36m<lambda>\u001b[0;34m(x)\u001b[0m\n\u001b[0;32m----> 1\u001b[0;31m \u001b[0mtest\u001b[0m\u001b[0;34m[\u001b[0m\u001b[0;34m'ip'\u001b[0m\u001b[0;34m]\u001b[0m\u001b[0;34m.\u001b[0m\u001b[0mmap\u001b[0m\u001b[0;34m(\u001b[0m\u001b[0;32mlambda\u001b[0m \u001b[0mx\u001b[0m\u001b[0;34m:\u001b[0m\u001b[0mx\u001b[0m\u001b[0;34m[\u001b[0m\u001b[0mname2idx\u001b[0m\u001b[0;34m[\u001b[0m\u001b[0;36m0\u001b[0m\u001b[0;34m]\u001b[0m\u001b[0;34m]\u001b[0m\u001b[0;34m)\u001b[0m\u001b[0;34m\u001b[0m\u001b[0m\n\u001b[0m",
      "\u001b[0;31mTypeError\u001b[0m: 'int' object is not subscriptable"
     ]
    }
   ],
   "source": [
    "test['ip'].map(lambda x:x[name2idx[0]])"
   ]
  },
  {
   "cell_type": "code",
   "execution_count": null,
   "metadata": {},
   "outputs": [],
   "source": []
  },
  {
   "cell_type": "code",
   "execution_count": 111,
   "metadata": {
    "ExecuteTime": {
     "end_time": "2018-04-07T05:32:03.425229Z",
     "start_time": "2018-04-07T05:31:06.536861Z"
    }
   },
   "outputs": [
    {
     "data": {
      "application/vnd.jupyter.widget-view+json": {
       "model_id": "84ed5f5916da4255b5acd88676d42649",
       "version_major": 2,
       "version_minor": 0
      },
      "text/html": [
       "<p>Failed to display Jupyter Widget of type <code>HBox</code>.</p>\n",
       "<p>\n",
       "  If you're reading this message in the Jupyter Notebook or JupyterLab Notebook, it may mean\n",
       "  that the widgets JavaScript is still loading. If this message persists, it\n",
       "  likely means that the widgets JavaScript library is either not installed or\n",
       "  not enabled. See the <a href=\"https://ipywidgets.readthedocs.io/en/stable/user_install.html\">Jupyter\n",
       "  Widgets Documentation</a> for setup instructions.\n",
       "</p>\n",
       "<p>\n",
       "  If you're reading this message in another frontend (for example, a static\n",
       "  rendering on GitHub or <a href=\"https://nbviewer.jupyter.org/\">NBViewer</a>),\n",
       "  it may mean that your frontend doesn't currently support widgets.\n",
       "</p>\n"
      ],
      "text/plain": [
       "HBox(children=(IntProgress(value=0, description='Epoch', max=1), HTML(value='')))"
      ]
     },
     "metadata": {},
     "output_type": "display_data"
    },
    {
     "name": "stdout",
     "output_type": "stream",
     "text": [
      " 16%|█▋        | 7166/43750 [01:10<05:57, 102.27it/s, loss=0.00995]"
     ]
    }
   ],
   "source": [
    "m.lr_find()"
   ]
  },
  {
   "cell_type": "code",
   "execution_count": 117,
   "metadata": {
    "ExecuteTime": {
     "end_time": "2018-04-07T05:37:09.131888Z",
     "start_time": "2018-04-07T05:37:08.907406Z"
    },
    "scrolled": true
   },
   "outputs": [
    {
     "data": {
      "image/png": "[encoded data removed]",
      "text/plain": [
       "<matplotlib.figure.Figure at 0x7fa8fc129ba8>"
      ]
     },
     "metadata": {},
     "output_type": "display_data"
    }
   ],
   "source": [
    "m.sched.plot(1)"
   ]
  },
  {
   "cell_type": "code",
   "execution_count": 39,
   "metadata": {
    "ExecuteTime": {
     "end_time": "2018-04-06T06:01:06.718901Z",
     "start_time": "2018-04-06T06:00:59.928358Z"
    }
   },
   "outputs": [
    {
     "name": "stdout",
     "output_type": "stream",
     "text": [
      "> \u001b[0;32m/home/paperspace/anaconda3/envs/fastai/lib/python3.6/site-packages/torch/nn/_functions/dropout.py\u001b[0m(39)\u001b[0;36mforward\u001b[0;34m()\u001b[0m\n",
      "\u001b[0;32m     37 \u001b[0;31m                \u001b[0mctx\u001b[0m\u001b[0;34m.\u001b[0m\u001b[0mnoise\u001b[0m\u001b[0;34m.\u001b[0m\u001b[0mfill_\u001b[0m\u001b[0;34m(\u001b[0m\u001b[0;36m0\u001b[0m\u001b[0;34m)\u001b[0m\u001b[0;34m\u001b[0m\u001b[0m\n",
      "\u001b[0m\u001b[0;32m     38 \u001b[0;31m            \u001b[0;32melse\u001b[0m\u001b[0;34m:\u001b[0m\u001b[0;34m\u001b[0m\u001b[0m\n",
      "\u001b[0m\u001b[0;32m---> 39 \u001b[0;31m                \u001b[0mctx\u001b[0m\u001b[0;34m.\u001b[0m\u001b[0mnoise\u001b[0m\u001b[0;34m.\u001b[0m\u001b[0mbernoulli_\u001b[0m\u001b[0;34m(\u001b[0m\u001b[0;36m1\u001b[0m \u001b[0;34m-\u001b[0m \u001b[0mctx\u001b[0m\u001b[0;34m.\u001b[0m\u001b[0mp\u001b[0m\u001b[0;34m)\u001b[0m\u001b[0;34m.\u001b[0m\u001b[0mdiv_\u001b[0m\u001b[0;34m(\u001b[0m\u001b[0;36m1\u001b[0m \u001b[0;34m-\u001b[0m \u001b[0mctx\u001b[0m\u001b[0;34m.\u001b[0m\u001b[0mp\u001b[0m\u001b[0;34m)\u001b[0m\u001b[0;34m\u001b[0m\u001b[0m\n",
      "\u001b[0m\u001b[0;32m     40 \u001b[0;31m            \u001b[0mctx\u001b[0m\u001b[0;34m.\u001b[0m\u001b[0mnoise\u001b[0m \u001b[0;34m=\u001b[0m \u001b[0mctx\u001b[0m\u001b[0;34m.\u001b[0m\u001b[0mnoise\u001b[0m\u001b[0;34m.\u001b[0m\u001b[0mexpand_as\u001b[0m\u001b[0;34m(\u001b[0m\u001b[0minput\u001b[0m\u001b[0;34m)\u001b[0m\u001b[0;34m\u001b[0m\u001b[0m\n",
      "\u001b[0m\u001b[0;32m     41 \u001b[0;31m            \u001b[0moutput\u001b[0m\u001b[0;34m.\u001b[0m\u001b[0mmul_\u001b[0m\u001b[0;34m(\u001b[0m\u001b[0mctx\u001b[0m\u001b[0;34m.\u001b[0m\u001b[0mnoise\u001b[0m\u001b[0;34m)\u001b[0m\u001b[0;34m\u001b[0m\u001b[0m\n",
      "\u001b[0m\n",
      "ipdb> continue\n"
     ]
    }
   ],
   "source": []
  },
  {
   "cell_type": "markdown",
   "metadata": {},
   "source": [
    "### Other Code"
   ]
  },
  {
   "cell_type": "code",
   "execution_count": 47,
   "metadata": {
    "ExecuteTime": {
     "end_time": "2018-04-06T05:44:19.481795Z",
     "start_time": "2018-04-06T05:44:19.477545Z"
    }
   },
   "outputs": [
    {
     "name": "stdout",
     "output_type": "stream",
     "text": [
      "(0, 10)\n",
      "(1, 20)\n",
      "(2, 30)\n"
     ]
    }
   ],
   "source": [
    "for i in enumerate([10,20,30]):\n",
    "    print(i)"
   ]
  },
  {
   "cell_type": "code",
   "execution_count": 4,
   "metadata": {},
   "outputs": [],
   "source": [
    "train = pd.read_csv(path+'train.csv')"
   ]
  },
  {
   "cell_type": "code",
   "execution_count": 5,
   "metadata": {},
   "outputs": [
    {
     "data": {
      "text/html": [
       "<div>\n",
       "<style scoped>\n",
       "    .dataframe tbody tr th:only-of-type {\n",
       "        vertical-align: middle;\n",
       "    }\n",
       "\n",
       "    .dataframe tbody tr th {\n",
       "        vertical-align: top;\n",
       "    }\n",
       "\n",
       "    .dataframe thead th {\n",
       "        text-align: right;\n",
       "    }\n",
       "</style>\n",
       "<table border=\"1\" class=\"dataframe\">\n",
       "  <thead>\n",
       "    <tr style=\"text-align: right;\">\n",
       "      <th></th>\n",
       "      <th>obs_id</th>\n",
       "      <th>SiteId</th>\n",
       "      <th>Timestamp</th>\n",
       "      <th>ForecastId</th>\n",
       "      <th>Value</th>\n",
       "    </tr>\n",
       "  </thead>\n",
       "  <tbody>\n",
       "    <tr>\n",
       "      <th>0</th>\n",
       "      <td>744519</td>\n",
       "      <td>1</td>\n",
       "      <td>2014-09-03 00:00:00</td>\n",
       "      <td>1</td>\n",
       "      <td>9.096555e+05</td>\n",
       "    </tr>\n",
       "    <tr>\n",
       "      <th>1</th>\n",
       "      <td>7627564</td>\n",
       "      <td>1</td>\n",
       "      <td>2014-09-04 00:00:00</td>\n",
       "      <td>1</td>\n",
       "      <td>1.748273e+06</td>\n",
       "    </tr>\n",
       "    <tr>\n",
       "      <th>2</th>\n",
       "      <td>7034705</td>\n",
       "      <td>1</td>\n",
       "      <td>2014-09-05 00:00:00</td>\n",
       "      <td>1</td>\n",
       "      <td>NaN</td>\n",
       "    </tr>\n",
       "    <tr>\n",
       "      <th>3</th>\n",
       "      <td>5995486</td>\n",
       "      <td>1</td>\n",
       "      <td>2014-09-06 00:00:00</td>\n",
       "      <td>1</td>\n",
       "      <td>NaN</td>\n",
       "    </tr>\n",
       "    <tr>\n",
       "      <th>4</th>\n",
       "      <td>7326510</td>\n",
       "      <td>1</td>\n",
       "      <td>2014-09-07 00:00:00</td>\n",
       "      <td>1</td>\n",
       "      <td>NaN</td>\n",
       "    </tr>\n",
       "  </tbody>\n",
       "</table>\n",
       "</div>"
      ],
      "text/plain": [
       "    obs_id  SiteId            Timestamp  ForecastId         Value\n",
       "0   744519       1  2014-09-03 00:00:00           1  9.096555e+05\n",
       "1  7627564       1  2014-09-04 00:00:00           1  1.748273e+06\n",
       "2  7034705       1  2014-09-05 00:00:00           1           NaN\n",
       "3  5995486       1  2014-09-06 00:00:00           1           NaN\n",
       "4  7326510       1  2014-09-07 00:00:00           1           NaN"
      ]
     },
     "execution_count": 5,
     "metadata": {},
     "output_type": "execute_result"
    }
   ],
   "source": [
    "train.head(5)"
   ]
  },
  {
   "cell_type": "code",
   "execution_count": 6,
   "metadata": {},
   "outputs": [
    {
     "data": {
      "text/plain": [
       "(6559830, 5)"
      ]
     },
     "execution_count": 6,
     "metadata": {},
     "output_type": "execute_result"
    }
   ],
   "source": [
    "train.shape"
   ]
  },
  {
   "cell_type": "code",
   "execution_count": 81,
   "metadata": {},
   "outputs": [],
   "source": [
    "submission_format = pd.read_csv(path+'submission_format.csv')"
   ]
  },
  {
   "cell_type": "code",
   "execution_count": 8,
   "metadata": {},
   "outputs": [
    {
     "data": {
      "text/html": [
       "<div>\n",
       "<style scoped>\n",
       "    .dataframe tbody tr th:only-of-type {\n",
       "        vertical-align: middle;\n",
       "    }\n",
       "\n",
       "    .dataframe tbody tr th {\n",
       "        vertical-align: top;\n",
       "    }\n",
       "\n",
       "    .dataframe thead th {\n",
       "        text-align: right;\n",
       "    }\n",
       "</style>\n",
       "<table border=\"1\" class=\"dataframe\">\n",
       "  <thead>\n",
       "    <tr style=\"text-align: right;\">\n",
       "      <th></th>\n",
       "      <th>obs_id</th>\n",
       "      <th>SiteId</th>\n",
       "      <th>Timestamp</th>\n",
       "      <th>ForecastId</th>\n",
       "      <th>Value</th>\n",
       "    </tr>\n",
       "  </thead>\n",
       "  <tbody>\n",
       "    <tr>\n",
       "      <th>0</th>\n",
       "      <td>1677832</td>\n",
       "      <td>1</td>\n",
       "      <td>2015-08-29 00:00:00</td>\n",
       "      <td>1</td>\n",
       "      <td>0.0</td>\n",
       "    </tr>\n",
       "    <tr>\n",
       "      <th>1</th>\n",
       "      <td>5379616</td>\n",
       "      <td>1</td>\n",
       "      <td>2015-08-30 00:00:00</td>\n",
       "      <td>1</td>\n",
       "      <td>0.0</td>\n",
       "    </tr>\n",
       "    <tr>\n",
       "      <th>2</th>\n",
       "      <td>496261</td>\n",
       "      <td>1</td>\n",
       "      <td>2015-08-31 00:00:00</td>\n",
       "      <td>1</td>\n",
       "      <td>0.0</td>\n",
       "    </tr>\n",
       "    <tr>\n",
       "      <th>3</th>\n",
       "      <td>4567147</td>\n",
       "      <td>1</td>\n",
       "      <td>2015-09-01 00:00:00</td>\n",
       "      <td>1</td>\n",
       "      <td>0.0</td>\n",
       "    </tr>\n",
       "    <tr>\n",
       "      <th>4</th>\n",
       "      <td>3684873</td>\n",
       "      <td>1</td>\n",
       "      <td>2015-09-02 00:00:00</td>\n",
       "      <td>1</td>\n",
       "      <td>0.0</td>\n",
       "    </tr>\n",
       "  </tbody>\n",
       "</table>\n",
       "</div>"
      ],
      "text/plain": [
       "    obs_id  SiteId            Timestamp  ForecastId  Value\n",
       "0  1677832       1  2015-08-29 00:00:00           1    0.0\n",
       "1  5379616       1  2015-08-30 00:00:00           1    0.0\n",
       "2   496261       1  2015-08-31 00:00:00           1    0.0\n",
       "3  4567147       1  2015-09-01 00:00:00           1    0.0\n",
       "4  3684873       1  2015-09-02 00:00:00           1    0.0"
      ]
     },
     "execution_count": 8,
     "metadata": {},
     "output_type": "execute_result"
    }
   ],
   "source": [
    "submission_format.head(5)"
   ]
  },
  {
   "cell_type": "code",
   "execution_count": 9,
   "metadata": {},
   "outputs": [
    {
     "data": {
      "text/plain": [
       "(1309176, 5)"
      ]
     },
     "execution_count": 9,
     "metadata": {},
     "output_type": "execute_result"
    }
   ],
   "source": [
    "submission_format.shape"
   ]
  },
  {
   "cell_type": "code",
   "execution_count": 10,
   "metadata": {},
   "outputs": [],
   "source": [
    "submission_frequency = pd.read_csv(path+'submission_frequency.csv')"
   ]
  },
  {
   "cell_type": "code",
   "execution_count": 11,
   "metadata": {},
   "outputs": [
    {
     "data": {
      "text/html": [
       "<div>\n",
       "<style scoped>\n",
       "    .dataframe tbody tr th:only-of-type {\n",
       "        vertical-align: middle;\n",
       "    }\n",
       "\n",
       "    .dataframe tbody tr th {\n",
       "        vertical-align: top;\n",
       "    }\n",
       "\n",
       "    .dataframe thead th {\n",
       "        text-align: right;\n",
       "    }\n",
       "</style>\n",
       "<table border=\"1\" class=\"dataframe\">\n",
       "  <thead>\n",
       "    <tr style=\"text-align: right;\">\n",
       "      <th></th>\n",
       "      <th>ForecastId</th>\n",
       "      <th>ForecastPeriodNS</th>\n",
       "    </tr>\n",
       "  </thead>\n",
       "  <tbody>\n",
       "    <tr>\n",
       "      <th>0</th>\n",
       "      <td>1</td>\n",
       "      <td>86400000000000</td>\n",
       "    </tr>\n",
       "    <tr>\n",
       "      <th>1</th>\n",
       "      <td>2</td>\n",
       "      <td>86400000000000</td>\n",
       "    </tr>\n",
       "    <tr>\n",
       "      <th>2</th>\n",
       "      <td>3</td>\n",
       "      <td>86400000000000</td>\n",
       "    </tr>\n",
       "    <tr>\n",
       "      <th>3</th>\n",
       "      <td>4</td>\n",
       "      <td>86400000000000</td>\n",
       "    </tr>\n",
       "    <tr>\n",
       "      <th>4</th>\n",
       "      <td>5</td>\n",
       "      <td>3600000000000</td>\n",
       "    </tr>\n",
       "  </tbody>\n",
       "</table>\n",
       "</div>"
      ],
      "text/plain": [
       "   ForecastId  ForecastPeriodNS\n",
       "0           1    86400000000000\n",
       "1           2    86400000000000\n",
       "2           3    86400000000000\n",
       "3           4    86400000000000\n",
       "4           5     3600000000000"
      ]
     },
     "execution_count": 11,
     "metadata": {},
     "output_type": "execute_result"
    }
   ],
   "source": [
    "submission_frequency.head(5)"
   ]
  },
  {
   "cell_type": "code",
   "execution_count": 12,
   "metadata": {},
   "outputs": [
    {
     "data": {
      "text/plain": [
       "(6974, 2)"
      ]
     },
     "execution_count": 12,
     "metadata": {},
     "output_type": "execute_result"
    }
   ],
   "source": [
    "submission_frequency.shape"
   ]
  },
  {
   "cell_type": "code",
   "execution_count": 13,
   "metadata": {},
   "outputs": [],
   "source": [
    "weather = pd.read_csv(path+'weather.csv')"
   ]
  },
  {
   "cell_type": "code",
   "execution_count": 14,
   "metadata": {},
   "outputs": [
    {
     "data": {
      "text/html": [
       "<div>\n",
       "<style scoped>\n",
       "    .dataframe tbody tr th:only-of-type {\n",
       "        vertical-align: middle;\n",
       "    }\n",
       "\n",
       "    .dataframe tbody tr th {\n",
       "        vertical-align: top;\n",
       "    }\n",
       "\n",
       "    .dataframe thead th {\n",
       "        text-align: right;\n",
       "    }\n",
       "</style>\n",
       "<table border=\"1\" class=\"dataframe\">\n",
       "  <thead>\n",
       "    <tr style=\"text-align: right;\">\n",
       "      <th></th>\n",
       "      <th>Unnamed: 0</th>\n",
       "      <th>Timestamp</th>\n",
       "      <th>Temperature</th>\n",
       "      <th>Distance</th>\n",
       "      <th>SiteId</th>\n",
       "    </tr>\n",
       "  </thead>\n",
       "  <tbody>\n",
       "    <tr>\n",
       "      <th>0</th>\n",
       "      <td>78064</td>\n",
       "      <td>2013-12-31 19:00:00</td>\n",
       "      <td>-7.2</td>\n",
       "      <td>24.889929</td>\n",
       "      <td>1</td>\n",
       "    </tr>\n",
       "    <tr>\n",
       "      <th>1</th>\n",
       "      <td>86746</td>\n",
       "      <td>2013-12-31 19:00:00</td>\n",
       "      <td>-8.3</td>\n",
       "      <td>23.303097</td>\n",
       "      <td>1</td>\n",
       "    </tr>\n",
       "    <tr>\n",
       "      <th>2</th>\n",
       "      <td>90002</td>\n",
       "      <td>2013-12-31 19:00:00</td>\n",
       "      <td>-7.8</td>\n",
       "      <td>20.952256</td>\n",
       "      <td>1</td>\n",
       "    </tr>\n",
       "    <tr>\n",
       "      <th>3</th>\n",
       "      <td>90003</td>\n",
       "      <td>2013-12-31 19:00:00</td>\n",
       "      <td>-8.0</td>\n",
       "      <td>20.952256</td>\n",
       "      <td>1</td>\n",
       "    </tr>\n",
       "    <tr>\n",
       "      <th>4</th>\n",
       "      <td>100541</td>\n",
       "      <td>2013-12-31 19:34:00</td>\n",
       "      <td>-8.1</td>\n",
       "      <td>16.610602</td>\n",
       "      <td>1</td>\n",
       "    </tr>\n",
       "  </tbody>\n",
       "</table>\n",
       "</div>"
      ],
      "text/plain": [
       "   Unnamed: 0            Timestamp  Temperature   Distance  SiteId\n",
       "0       78064  2013-12-31 19:00:00         -7.2  24.889929       1\n",
       "1       86746  2013-12-31 19:00:00         -8.3  23.303097       1\n",
       "2       90002  2013-12-31 19:00:00         -7.8  20.952256       1\n",
       "3       90003  2013-12-31 19:00:00         -8.0  20.952256       1\n",
       "4      100541  2013-12-31 19:34:00         -8.1  16.610602       1"
      ]
     },
     "execution_count": 14,
     "metadata": {},
     "output_type": "execute_result"
    }
   ],
   "source": [
    "weather.head(5)"
   ]
  },
  {
   "cell_type": "code",
   "execution_count": 15,
   "metadata": {},
   "outputs": [
    {
     "data": {
      "text/plain": [
       "(20017278, 5)"
      ]
     },
     "execution_count": 15,
     "metadata": {},
     "output_type": "execute_result"
    }
   ],
   "source": [
    "weather.shape"
   ]
  },
  {
   "cell_type": "code",
   "execution_count": 16,
   "metadata": {},
   "outputs": [],
   "source": [
    "holidays = pd.read_csv(path+'holidays.csv')"
   ]
  },
  {
   "cell_type": "code",
   "execution_count": 17,
   "metadata": {},
   "outputs": [
    {
     "data": {
      "text/html": [
       "<div>\n",
       "<style scoped>\n",
       "    .dataframe tbody tr th:only-of-type {\n",
       "        vertical-align: middle;\n",
       "    }\n",
       "\n",
       "    .dataframe tbody tr th {\n",
       "        vertical-align: top;\n",
       "    }\n",
       "\n",
       "    .dataframe thead th {\n",
       "        text-align: right;\n",
       "    }\n",
       "</style>\n",
       "<table border=\"1\" class=\"dataframe\">\n",
       "  <thead>\n",
       "    <tr style=\"text-align: right;\">\n",
       "      <th></th>\n",
       "      <th>Unnamed: 0</th>\n",
       "      <th>Date</th>\n",
       "      <th>Holiday</th>\n",
       "      <th>SiteId</th>\n",
       "    </tr>\n",
       "  </thead>\n",
       "  <tbody>\n",
       "    <tr>\n",
       "      <th>0</th>\n",
       "      <td>0</td>\n",
       "      <td>2016-01-01</td>\n",
       "      <td>New year</td>\n",
       "      <td>1</td>\n",
       "    </tr>\n",
       "    <tr>\n",
       "      <th>1</th>\n",
       "      <td>1</td>\n",
       "      <td>2016-01-18</td>\n",
       "      <td>Birthday of Martin Luther King, Jr.</td>\n",
       "      <td>1</td>\n",
       "    </tr>\n",
       "    <tr>\n",
       "      <th>2</th>\n",
       "      <td>2</td>\n",
       "      <td>2016-02-15</td>\n",
       "      <td>Washington's Birthday</td>\n",
       "      <td>1</td>\n",
       "    </tr>\n",
       "    <tr>\n",
       "      <th>3</th>\n",
       "      <td>3</td>\n",
       "      <td>2016-05-30</td>\n",
       "      <td>Memorial Day</td>\n",
       "      <td>1</td>\n",
       "    </tr>\n",
       "    <tr>\n",
       "      <th>4</th>\n",
       "      <td>4</td>\n",
       "      <td>2016-07-04</td>\n",
       "      <td>Independence Day</td>\n",
       "      <td>1</td>\n",
       "    </tr>\n",
       "  </tbody>\n",
       "</table>\n",
       "</div>"
      ],
      "text/plain": [
       "   Unnamed: 0        Date                              Holiday  SiteId\n",
       "0           0  2016-01-01                             New year       1\n",
       "1           1  2016-01-18  Birthday of Martin Luther King, Jr.       1\n",
       "2           2  2016-02-15                Washington's Birthday       1\n",
       "3           3  2016-05-30                         Memorial Day       1\n",
       "4           4  2016-07-04                     Independence Day       1"
      ]
     },
     "execution_count": 17,
     "metadata": {},
     "output_type": "execute_result"
    }
   ],
   "source": [
    "holidays.head(5)"
   ]
  },
  {
   "cell_type": "code",
   "execution_count": 18,
   "metadata": {},
   "outputs": [
    {
     "data": {
      "text/plain": [
       "(8387, 4)"
      ]
     },
     "execution_count": 18,
     "metadata": {},
     "output_type": "execute_result"
    }
   ],
   "source": [
    "holidays.shape"
   ]
  },
  {
   "cell_type": "code",
   "execution_count": 19,
   "metadata": {},
   "outputs": [],
   "source": [
    "metadata = pd.read_csv(path+'metadata.csv')"
   ]
  },
  {
   "cell_type": "code",
   "execution_count": 20,
   "metadata": {},
   "outputs": [
    {
     "data": {
      "text/html": [
       "<div>\n",
       "<style scoped>\n",
       "    .dataframe tbody tr th:only-of-type {\n",
       "        vertical-align: middle;\n",
       "    }\n",
       "\n",
       "    .dataframe tbody tr th {\n",
       "        vertical-align: top;\n",
       "    }\n",
       "\n",
       "    .dataframe thead th {\n",
       "        text-align: right;\n",
       "    }\n",
       "</style>\n",
       "<table border=\"1\" class=\"dataframe\">\n",
       "  <thead>\n",
       "    <tr style=\"text-align: right;\">\n",
       "      <th></th>\n",
       "      <th>SiteId</th>\n",
       "      <th>Surface</th>\n",
       "      <th>Sampling</th>\n",
       "      <th>BaseTemperature</th>\n",
       "      <th>MondayIsDayOff</th>\n",
       "      <th>TuesdayIsDayOff</th>\n",
       "      <th>WednesdayIsDayOff</th>\n",
       "      <th>ThursdayIsDayOff</th>\n",
       "      <th>FridayIsDayOff</th>\n",
       "      <th>SaturdayIsDayOff</th>\n",
       "      <th>SundayIsDayOff</th>\n",
       "    </tr>\n",
       "  </thead>\n",
       "  <tbody>\n",
       "    <tr>\n",
       "      <th>0</th>\n",
       "      <td>1</td>\n",
       "      <td>1387.205119</td>\n",
       "      <td>15.0</td>\n",
       "      <td>18.0</td>\n",
       "      <td>False</td>\n",
       "      <td>False</td>\n",
       "      <td>False</td>\n",
       "      <td>False</td>\n",
       "      <td>False</td>\n",
       "      <td>True</td>\n",
       "      <td>True</td>\n",
       "    </tr>\n",
       "    <tr>\n",
       "      <th>1</th>\n",
       "      <td>2</td>\n",
       "      <td>6098.278376</td>\n",
       "      <td>30.0</td>\n",
       "      <td>18.0</td>\n",
       "      <td>False</td>\n",
       "      <td>False</td>\n",
       "      <td>False</td>\n",
       "      <td>False</td>\n",
       "      <td>False</td>\n",
       "      <td>True</td>\n",
       "      <td>True</td>\n",
       "    </tr>\n",
       "    <tr>\n",
       "      <th>2</th>\n",
       "      <td>3</td>\n",
       "      <td>10556.293605</td>\n",
       "      <td>5.0</td>\n",
       "      <td>18.0</td>\n",
       "      <td>False</td>\n",
       "      <td>False</td>\n",
       "      <td>False</td>\n",
       "      <td>False</td>\n",
       "      <td>False</td>\n",
       "      <td>True</td>\n",
       "      <td>False</td>\n",
       "    </tr>\n",
       "    <tr>\n",
       "      <th>3</th>\n",
       "      <td>5</td>\n",
       "      <td>12541.181277</td>\n",
       "      <td>30.0</td>\n",
       "      <td>18.0</td>\n",
       "      <td>False</td>\n",
       "      <td>False</td>\n",
       "      <td>False</td>\n",
       "      <td>False</td>\n",
       "      <td>False</td>\n",
       "      <td>True</td>\n",
       "      <td>True</td>\n",
       "    </tr>\n",
       "    <tr>\n",
       "      <th>4</th>\n",
       "      <td>6</td>\n",
       "      <td>9150.195373</td>\n",
       "      <td>30.0</td>\n",
       "      <td>18.0</td>\n",
       "      <td>False</td>\n",
       "      <td>False</td>\n",
       "      <td>False</td>\n",
       "      <td>False</td>\n",
       "      <td>False</td>\n",
       "      <td>True</td>\n",
       "      <td>True</td>\n",
       "    </tr>\n",
       "  </tbody>\n",
       "</table>\n",
       "</div>"
      ],
      "text/plain": [
       "   SiteId       Surface  Sampling  BaseTemperature  MondayIsDayOff  \\\n",
       "0       1   1387.205119      15.0             18.0           False   \n",
       "1       2   6098.278376      30.0             18.0           False   \n",
       "2       3  10556.293605       5.0             18.0           False   \n",
       "3       5  12541.181277      30.0             18.0           False   \n",
       "4       6   9150.195373      30.0             18.0           False   \n",
       "\n",
       "   TuesdayIsDayOff  WednesdayIsDayOff  ThursdayIsDayOff  FridayIsDayOff  \\\n",
       "0            False              False             False           False   \n",
       "1            False              False             False           False   \n",
       "2            False              False             False           False   \n",
       "3            False              False             False           False   \n",
       "4            False              False             False           False   \n",
       "\n",
       "   SaturdayIsDayOff  SundayIsDayOff  \n",
       "0              True            True  \n",
       "1              True            True  \n",
       "2              True           False  \n",
       "3              True            True  \n",
       "4              True            True  "
      ]
     },
     "execution_count": 20,
     "metadata": {},
     "output_type": "execute_result"
    }
   ],
   "source": [
    "metadata.head(5)"
   ]
  },
  {
   "cell_type": "code",
   "execution_count": 21,
   "metadata": {},
   "outputs": [
    {
     "data": {
      "text/plain": [
       "(267, 11)"
      ]
     },
     "execution_count": 21,
     "metadata": {},
     "output_type": "execute_result"
    }
   ],
   "source": [
    "metadata.shape"
   ]
  },
  {
   "cell_type": "code",
   "execution_count": 22,
   "metadata": {},
   "outputs": [],
   "source": [
    "### merge train and test sets to perform operations"
   ]
  },
  {
   "cell_type": "code",
   "execution_count": 23,
   "metadata": {},
   "outputs": [],
   "source": [
    "train['train']=1"
   ]
  },
  {
   "cell_type": "code",
   "execution_count": 24,
   "metadata": {},
   "outputs": [],
   "source": [
    "submission_format['train']=0"
   ]
  },
  {
   "cell_type": "code",
   "execution_count": 25,
   "metadata": {},
   "outputs": [],
   "source": [
    "tt_merge = pd.concat([train,submission_format],axis=0)"
   ]
  },
  {
   "cell_type": "code",
   "execution_count": 26,
   "metadata": {},
   "outputs": [
    {
     "data": {
      "text/plain": [
       "(7869006, 6)"
      ]
     },
     "execution_count": 26,
     "metadata": {},
     "output_type": "execute_result"
    }
   ],
   "source": [
    "tt_merge.shape"
   ]
  },
  {
   "cell_type": "code",
   "execution_count": null,
   "metadata": {},
   "outputs": [],
   "source": []
  },
  {
   "cell_type": "code",
   "execution_count": 27,
   "metadata": {},
   "outputs": [],
   "source": [
    "tt_merge_forecastid = tt_merge.merge(submission_frequency,how='left',left_on='ForecastId',right_on='ForecastId',suffixes=('','_y'))"
   ]
  },
  {
   "cell_type": "code",
   "execution_count": 28,
   "metadata": {},
   "outputs": [],
   "source": [
    "tt_merge_forecastid['Timestamp'] = pd.to_datetime(tt_merge_forecastid['Timestamp'])"
   ]
  },
  {
   "cell_type": "code",
   "execution_count": 29,
   "metadata": {},
   "outputs": [],
   "source": [
    "tt_merge_forecastid['year'] = tt_merge_forecastid['Timestamp'].dt.year\n",
    "tt_merge_forecastid['month'] = tt_merge_forecastid['Timestamp'].dt.month\n",
    "tt_merge_forecastid['day'] = tt_merge_forecastid['Timestamp'].dt.day\n",
    "tt_merge_forecastid['hour'] = tt_merge_forecastid['Timestamp'].dt.hour\n",
    "tt_merge_forecastid['minute'] = tt_merge_forecastid['Timestamp'].dt.minute\n",
    "tt_merge_forecastid['sec'] = tt_merge_forecastid['Timestamp'].dt.second"
   ]
  },
  {
   "cell_type": "code",
   "execution_count": 30,
   "metadata": {},
   "outputs": [],
   "source": [
    "weather['Timestamp'] = pd.to_datetime(weather['Timestamp'])"
   ]
  },
  {
   "cell_type": "code",
   "execution_count": 31,
   "metadata": {},
   "outputs": [],
   "source": [
    "weather['year'] = weather['Timestamp'].dt.year\n",
    "weather['month'] = weather['Timestamp'].dt.month\n",
    "weather['day'] = weather['Timestamp'].dt.day\n",
    "weather['hour'] = weather['Timestamp'].dt.hour\n",
    "weather['minute'] = weather['Timestamp'].dt.minute\n",
    "weather['sec'] = weather['Timestamp'].dt.second\n"
   ]
  },
  {
   "cell_type": "code",
   "execution_count": 32,
   "metadata": {},
   "outputs": [
    {
     "data": {
      "text/html": [
       "<div>\n",
       "<style scoped>\n",
       "    .dataframe tbody tr th:only-of-type {\n",
       "        vertical-align: middle;\n",
       "    }\n",
       "\n",
       "    .dataframe tbody tr th {\n",
       "        vertical-align: top;\n",
       "    }\n",
       "\n",
       "    .dataframe thead th {\n",
       "        text-align: right;\n",
       "    }\n",
       "</style>\n",
       "<table border=\"1\" class=\"dataframe\">\n",
       "  <thead>\n",
       "    <tr style=\"text-align: right;\">\n",
       "      <th></th>\n",
       "      <th>Unnamed: 0</th>\n",
       "      <th>Timestamp</th>\n",
       "      <th>Temperature</th>\n",
       "      <th>Distance</th>\n",
       "      <th>SiteId</th>\n",
       "      <th>year</th>\n",
       "      <th>month</th>\n",
       "      <th>day</th>\n",
       "      <th>hour</th>\n",
       "      <th>minute</th>\n",
       "      <th>sec</th>\n",
       "    </tr>\n",
       "  </thead>\n",
       "  <tbody>\n",
       "    <tr>\n",
       "      <th>0</th>\n",
       "      <td>78064</td>\n",
       "      <td>2013-12-31 19:00:00</td>\n",
       "      <td>-7.2</td>\n",
       "      <td>24.889929</td>\n",
       "      <td>1</td>\n",
       "      <td>2013</td>\n",
       "      <td>12</td>\n",
       "      <td>31</td>\n",
       "      <td>19</td>\n",
       "      <td>0</td>\n",
       "      <td>0</td>\n",
       "    </tr>\n",
       "    <tr>\n",
       "      <th>1</th>\n",
       "      <td>86746</td>\n",
       "      <td>2013-12-31 19:00:00</td>\n",
       "      <td>-8.3</td>\n",
       "      <td>23.303097</td>\n",
       "      <td>1</td>\n",
       "      <td>2013</td>\n",
       "      <td>12</td>\n",
       "      <td>31</td>\n",
       "      <td>19</td>\n",
       "      <td>0</td>\n",
       "      <td>0</td>\n",
       "    </tr>\n",
       "    <tr>\n",
       "      <th>2</th>\n",
       "      <td>90002</td>\n",
       "      <td>2013-12-31 19:00:00</td>\n",
       "      <td>-7.8</td>\n",
       "      <td>20.952256</td>\n",
       "      <td>1</td>\n",
       "      <td>2013</td>\n",
       "      <td>12</td>\n",
       "      <td>31</td>\n",
       "      <td>19</td>\n",
       "      <td>0</td>\n",
       "      <td>0</td>\n",
       "    </tr>\n",
       "    <tr>\n",
       "      <th>3</th>\n",
       "      <td>90003</td>\n",
       "      <td>2013-12-31 19:00:00</td>\n",
       "      <td>-8.0</td>\n",
       "      <td>20.952256</td>\n",
       "      <td>1</td>\n",
       "      <td>2013</td>\n",
       "      <td>12</td>\n",
       "      <td>31</td>\n",
       "      <td>19</td>\n",
       "      <td>0</td>\n",
       "      <td>0</td>\n",
       "    </tr>\n",
       "    <tr>\n",
       "      <th>4</th>\n",
       "      <td>100541</td>\n",
       "      <td>2013-12-31 19:34:00</td>\n",
       "      <td>-8.1</td>\n",
       "      <td>16.610602</td>\n",
       "      <td>1</td>\n",
       "      <td>2013</td>\n",
       "      <td>12</td>\n",
       "      <td>31</td>\n",
       "      <td>19</td>\n",
       "      <td>34</td>\n",
       "      <td>0</td>\n",
       "    </tr>\n",
       "  </tbody>\n",
       "</table>\n",
       "</div>"
      ],
      "text/plain": [
       "   Unnamed: 0           Timestamp  Temperature   Distance  SiteId  year  \\\n",
       "0       78064 2013-12-31 19:00:00         -7.2  24.889929       1  2013   \n",
       "1       86746 2013-12-31 19:00:00         -8.3  23.303097       1  2013   \n",
       "2       90002 2013-12-31 19:00:00         -7.8  20.952256       1  2013   \n",
       "3       90003 2013-12-31 19:00:00         -8.0  20.952256       1  2013   \n",
       "4      100541 2013-12-31 19:34:00         -8.1  16.610602       1  2013   \n",
       "\n",
       "   month  day  hour  minute  sec  \n",
       "0     12   31    19       0    0  \n",
       "1     12   31    19       0    0  \n",
       "2     12   31    19       0    0  \n",
       "3     12   31    19       0    0  \n",
       "4     12   31    19      34    0  "
      ]
     },
     "execution_count": 32,
     "metadata": {},
     "output_type": "execute_result"
    }
   ],
   "source": [
    "weather.head(5)"
   ]
  },
  {
   "cell_type": "code",
   "execution_count": 33,
   "metadata": {},
   "outputs": [],
   "source": [
    "weather_grouped = weather.groupby(['SiteId','year','month','day']).agg({'Temperature':'mean','Distance':'mean'}).reset_index()"
   ]
  },
  {
   "cell_type": "code",
   "execution_count": 34,
   "metadata": {},
   "outputs": [],
   "source": [
    "tt_weather = tt_merge_forecastid.merge(weather_grouped,how='left',left_on=['SiteId','year','month','day'],right_on=['SiteId','year','month','day'],suffixes=(\"\",\"_y\"))"
   ]
  },
  {
   "cell_type": "code",
   "execution_count": 35,
   "metadata": {},
   "outputs": [
    {
     "data": {
      "text/plain": [
       "(1309176, 15)"
      ]
     },
     "execution_count": 35,
     "metadata": {},
     "output_type": "execute_result"
    }
   ],
   "source": [
    "tt_weather[tt_weather['train']==0].shape"
   ]
  },
  {
   "cell_type": "code",
   "execution_count": 36,
   "metadata": {},
   "outputs": [],
   "source": [
    "tt_weather['date'] = tt_weather['Timestamp'].dt.date"
   ]
  },
  {
   "cell_type": "code",
   "execution_count": 37,
   "metadata": {},
   "outputs": [],
   "source": [
    "holidays['Date'] = pd.to_datetime(holidays['Date']).copy()"
   ]
  },
  {
   "cell_type": "code",
   "execution_count": 38,
   "metadata": {},
   "outputs": [],
   "source": [
    "holidays['year'] = holidays['Date'].dt.year\n",
    "holidays['month'] = holidays['Date'].dt.month\n",
    "holidays['day'] = holidays['Date'].dt.day\n"
   ]
  },
  {
   "cell_type": "code",
   "execution_count": 39,
   "metadata": {},
   "outputs": [],
   "source": [
    "hols_grouped = holidays.groupby(['SiteId','Date']).agg({'Holiday':'first','year':'first','month':'first','day':'first'}).reset_index()"
   ]
  },
  {
   "cell_type": "code",
   "execution_count": 40,
   "metadata": {},
   "outputs": [],
   "source": [
    "tt_wtr_hol = tt_weather.merge(hols_grouped,how='left',left_on=['SiteId','year','month','day'],right_on=['SiteId','year','month','day'],suffixes=(\"\",\"_y\"))"
   ]
  },
  {
   "cell_type": "code",
   "execution_count": 41,
   "metadata": {},
   "outputs": [
    {
     "data": {
      "text/plain": [
       "(1309176, 18)"
      ]
     },
     "execution_count": 41,
     "metadata": {},
     "output_type": "execute_result"
    }
   ],
   "source": [
    "tt_wtr_hol[tt_wtr_hol['train']==0].shape"
   ]
  },
  {
   "cell_type": "code",
   "execution_count": 42,
   "metadata": {},
   "outputs": [],
   "source": [
    "tt_wtr_hol_md = tt_wtr_hol.merge(metadata,how='left',left_on='SiteId',right_on='SiteId',suffixes=(\"\",\"_y\"))"
   ]
  },
  {
   "cell_type": "code",
   "execution_count": 43,
   "metadata": {},
   "outputs": [],
   "source": [
    "tt_wtr_hol_md['dayofweek'] = tt_wtr_hol_md['Timestamp'].dt.dayofweek\n",
    "tt_wtr_hol_md['dayofyear'] = tt_wtr_hol_md['Timestamp'].dt.dayofyear\n"
   ]
  },
  {
   "cell_type": "code",
   "execution_count": 44,
   "metadata": {},
   "outputs": [
    {
     "data": {
      "text/html": [
       "<div>\n",
       "<style scoped>\n",
       "    .dataframe tbody tr th:only-of-type {\n",
       "        vertical-align: middle;\n",
       "    }\n",
       "\n",
       "    .dataframe tbody tr th {\n",
       "        vertical-align: top;\n",
       "    }\n",
       "\n",
       "    .dataframe thead th {\n",
       "        text-align: right;\n",
       "    }\n",
       "</style>\n",
       "<table border=\"1\" class=\"dataframe\">\n",
       "  <thead>\n",
       "    <tr style=\"text-align: right;\">\n",
       "      <th></th>\n",
       "      <th>obs_id</th>\n",
       "      <th>SiteId</th>\n",
       "      <th>Timestamp</th>\n",
       "      <th>ForecastId</th>\n",
       "      <th>Value</th>\n",
       "      <th>train</th>\n",
       "      <th>ForecastPeriodNS</th>\n",
       "      <th>year</th>\n",
       "      <th>month</th>\n",
       "      <th>day</th>\n",
       "      <th>...</th>\n",
       "      <th>BaseTemperature</th>\n",
       "      <th>MondayIsDayOff</th>\n",
       "      <th>TuesdayIsDayOff</th>\n",
       "      <th>WednesdayIsDayOff</th>\n",
       "      <th>ThursdayIsDayOff</th>\n",
       "      <th>FridayIsDayOff</th>\n",
       "      <th>SaturdayIsDayOff</th>\n",
       "      <th>SundayIsDayOff</th>\n",
       "      <th>dayofweek</th>\n",
       "      <th>dayofyear</th>\n",
       "    </tr>\n",
       "  </thead>\n",
       "  <tbody>\n",
       "    <tr>\n",
       "      <th>0</th>\n",
       "      <td>744519</td>\n",
       "      <td>1</td>\n",
       "      <td>2014-09-03</td>\n",
       "      <td>1</td>\n",
       "      <td>9.096555e+05</td>\n",
       "      <td>1</td>\n",
       "      <td>86400000000000</td>\n",
       "      <td>2014</td>\n",
       "      <td>9</td>\n",
       "      <td>3</td>\n",
       "      <td>...</td>\n",
       "      <td>18.0</td>\n",
       "      <td>False</td>\n",
       "      <td>False</td>\n",
       "      <td>False</td>\n",
       "      <td>False</td>\n",
       "      <td>False</td>\n",
       "      <td>True</td>\n",
       "      <td>True</td>\n",
       "      <td>2</td>\n",
       "      <td>246</td>\n",
       "    </tr>\n",
       "    <tr>\n",
       "      <th>1</th>\n",
       "      <td>7627564</td>\n",
       "      <td>1</td>\n",
       "      <td>2014-09-04</td>\n",
       "      <td>1</td>\n",
       "      <td>1.748273e+06</td>\n",
       "      <td>1</td>\n",
       "      <td>86400000000000</td>\n",
       "      <td>2014</td>\n",
       "      <td>9</td>\n",
       "      <td>4</td>\n",
       "      <td>...</td>\n",
       "      <td>18.0</td>\n",
       "      <td>False</td>\n",
       "      <td>False</td>\n",
       "      <td>False</td>\n",
       "      <td>False</td>\n",
       "      <td>False</td>\n",
       "      <td>True</td>\n",
       "      <td>True</td>\n",
       "      <td>3</td>\n",
       "      <td>247</td>\n",
       "    </tr>\n",
       "    <tr>\n",
       "      <th>2</th>\n",
       "      <td>7034705</td>\n",
       "      <td>1</td>\n",
       "      <td>2014-09-05</td>\n",
       "      <td>1</td>\n",
       "      <td>NaN</td>\n",
       "      <td>1</td>\n",
       "      <td>86400000000000</td>\n",
       "      <td>2014</td>\n",
       "      <td>9</td>\n",
       "      <td>5</td>\n",
       "      <td>...</td>\n",
       "      <td>18.0</td>\n",
       "      <td>False</td>\n",
       "      <td>False</td>\n",
       "      <td>False</td>\n",
       "      <td>False</td>\n",
       "      <td>False</td>\n",
       "      <td>True</td>\n",
       "      <td>True</td>\n",
       "      <td>4</td>\n",
       "      <td>248</td>\n",
       "    </tr>\n",
       "    <tr>\n",
       "      <th>3</th>\n",
       "      <td>5995486</td>\n",
       "      <td>1</td>\n",
       "      <td>2014-09-06</td>\n",
       "      <td>1</td>\n",
       "      <td>NaN</td>\n",
       "      <td>1</td>\n",
       "      <td>86400000000000</td>\n",
       "      <td>2014</td>\n",
       "      <td>9</td>\n",
       "      <td>6</td>\n",
       "      <td>...</td>\n",
       "      <td>18.0</td>\n",
       "      <td>False</td>\n",
       "      <td>False</td>\n",
       "      <td>False</td>\n",
       "      <td>False</td>\n",
       "      <td>False</td>\n",
       "      <td>True</td>\n",
       "      <td>True</td>\n",
       "      <td>5</td>\n",
       "      <td>249</td>\n",
       "    </tr>\n",
       "    <tr>\n",
       "      <th>4</th>\n",
       "      <td>7326510</td>\n",
       "      <td>1</td>\n",
       "      <td>2014-09-07</td>\n",
       "      <td>1</td>\n",
       "      <td>NaN</td>\n",
       "      <td>1</td>\n",
       "      <td>86400000000000</td>\n",
       "      <td>2014</td>\n",
       "      <td>9</td>\n",
       "      <td>7</td>\n",
       "      <td>...</td>\n",
       "      <td>18.0</td>\n",
       "      <td>False</td>\n",
       "      <td>False</td>\n",
       "      <td>False</td>\n",
       "      <td>False</td>\n",
       "      <td>False</td>\n",
       "      <td>True</td>\n",
       "      <td>True</td>\n",
       "      <td>6</td>\n",
       "      <td>250</td>\n",
       "    </tr>\n",
       "  </tbody>\n",
       "</table>\n",
       "<p>5 rows × 30 columns</p>\n",
       "</div>"
      ],
      "text/plain": [
       "    obs_id  SiteId  Timestamp  ForecastId         Value  train  \\\n",
       "0   744519       1 2014-09-03           1  9.096555e+05      1   \n",
       "1  7627564       1 2014-09-04           1  1.748273e+06      1   \n",
       "2  7034705       1 2014-09-05           1           NaN      1   \n",
       "3  5995486       1 2014-09-06           1           NaN      1   \n",
       "4  7326510       1 2014-09-07           1           NaN      1   \n",
       "\n",
       "   ForecastPeriodNS  year  month  day    ...      BaseTemperature  \\\n",
       "0    86400000000000  2014      9    3    ...                 18.0   \n",
       "1    86400000000000  2014      9    4    ...                 18.0   \n",
       "2    86400000000000  2014      9    5    ...                 18.0   \n",
       "3    86400000000000  2014      9    6    ...                 18.0   \n",
       "4    86400000000000  2014      9    7    ...                 18.0   \n",
       "\n",
       "   MondayIsDayOff  TuesdayIsDayOff  WednesdayIsDayOff  ThursdayIsDayOff  \\\n",
       "0           False            False              False             False   \n",
       "1           False            False              False             False   \n",
       "2           False            False              False             False   \n",
       "3           False            False              False             False   \n",
       "4           False            False              False             False   \n",
       "\n",
       "  FridayIsDayOff SaturdayIsDayOff SundayIsDayOff  dayofweek  dayofyear  \n",
       "0          False             True           True          2        246  \n",
       "1          False             True           True          3        247  \n",
       "2          False             True           True          4        248  \n",
       "3          False             True           True          5        249  \n",
       "4          False             True           True          6        250  \n",
       "\n",
       "[5 rows x 30 columns]"
      ]
     },
     "execution_count": 44,
     "metadata": {},
     "output_type": "execute_result"
    }
   ],
   "source": [
    "tt_wtr_hol_md.head(5)"
   ]
  },
  {
   "cell_type": "code",
   "execution_count": 45,
   "metadata": {},
   "outputs": [],
   "source": [
    "tt_wtr_hol_md['IsHoliday'] = tt_wtr_hol_md['Holiday'].apply(lambda x:0 if pd.isnull(x) else 1)"
   ]
  },
  {
   "cell_type": "code",
   "execution_count": 46,
   "metadata": {},
   "outputs": [
    {
     "data": {
      "text/plain": [
       "Index(['obs_id', 'SiteId', 'Timestamp', 'ForecastId', 'Value', 'train',\n",
       "       'ForecastPeriodNS', 'year', 'month', 'day', 'hour', 'minute', 'sec',\n",
       "       'Temperature', 'Distance', 'date', 'Date', 'Holiday', 'Surface',\n",
       "       'Sampling', 'BaseTemperature', 'MondayIsDayOff', 'TuesdayIsDayOff',\n",
       "       'WednesdayIsDayOff', 'ThursdayIsDayOff', 'FridayIsDayOff',\n",
       "       'SaturdayIsDayOff', 'SundayIsDayOff', 'dayofweek', 'dayofyear',\n",
       "       'IsHoliday'],\n",
       "      dtype='object')"
      ]
     },
     "execution_count": 46,
     "metadata": {},
     "output_type": "execute_result"
    }
   ],
   "source": [
    "tt_wtr_hol_md.columns"
   ]
  },
  {
   "cell_type": "code",
   "execution_count": 47,
   "metadata": {},
   "outputs": [],
   "source": [
    "cat_vars = ['SiteId', 'year', 'month', 'day', 'hour', 'minute', 'sec','Holiday','MondayIsDayOff',\n",
    "       'TuesdayIsDayOff', 'WednesdayIsDayOff', 'ThursdayIsDayOff',\n",
    "       'FridayIsDayOff', 'SaturdayIsDayOff', 'SundayIsDayOff', 'dayofweek',\n",
    "       'dayofyear', 'IsHoliday']\n",
    "contin_vars = ['ForecastPeriodNS','Temperature', 'Distance','Surface', 'Sampling', 'BaseTemperature']"
   ]
  },
  {
   "cell_type": "code",
   "execution_count": 48,
   "metadata": {},
   "outputs": [],
   "source": [
    "proc_train = tt_wtr_hol_md[tt_wtr_hol_md['train']==1].copy()\n",
    "proc_test = tt_wtr_hol_md[tt_wtr_hol_md['train']==0].copy()"
   ]
  },
  {
   "cell_type": "code",
   "execution_count": 49,
   "metadata": {},
   "outputs": [],
   "source": [
    "proc_train.index = proc_train['date']"
   ]
  },
  {
   "cell_type": "code",
   "execution_count": 50,
   "metadata": {},
   "outputs": [],
   "source": [
    "proc_test.index = proc_test['date']"
   ]
  },
  {
   "cell_type": "code",
   "execution_count": 51,
   "metadata": {},
   "outputs": [
    {
     "data": {
      "text/plain": [
       "(1309176, 31)"
      ]
     },
     "execution_count": 51,
     "metadata": {},
     "output_type": "execute_result"
    }
   ],
   "source": [
    "proc_test.shape"
   ]
  },
  {
   "cell_type": "code",
   "execution_count": 52,
   "metadata": {},
   "outputs": [],
   "source": [
    "proc_train = proc_train[-((proc_train['Value'].isnull())|(proc_train['Value']==0))].copy()"
   ]
  },
  {
   "cell_type": "code",
   "execution_count": 53,
   "metadata": {},
   "outputs": [
    {
     "data": {
      "text/plain": [
       "(6472634, 31)"
      ]
     },
     "execution_count": 53,
     "metadata": {},
     "output_type": "execute_result"
    }
   ],
   "source": [
    "proc_train.shape"
   ]
  },
  {
   "cell_type": "code",
   "execution_count": 54,
   "metadata": {},
   "outputs": [],
   "source": [
    "for v in cat_vars: \n",
    "    proc_train[v] = proc_train[v].astype('category').cat.as_ordered().copy()\n",
    "    proc_test[v] = proc_test[v].astype('category').cat.as_ordered().copy()"
   ]
  },
  {
   "cell_type": "code",
   "execution_count": 55,
   "metadata": {},
   "outputs": [],
   "source": [
    "for v in contin_vars:\n",
    "    proc_train[v] = proc_train[v].astype('float32')\n",
    "    proc_test[v] = proc_test[v].astype('float32')"
   ]
  },
  {
   "cell_type": "code",
   "execution_count": 56,
   "metadata": {},
   "outputs": [],
   "source": [
    "proc_train = proc_train[cat_vars+contin_vars+['Value']]\n",
    "proc_test = proc_test[cat_vars+contin_vars+['Value']]"
   ]
  },
  {
   "cell_type": "markdown",
   "metadata": {},
   "source": [
    "### Real Deal"
   ]
  },
  {
   "cell_type": "code",
   "execution_count": 57,
   "metadata": {},
   "outputs": [],
   "source": [
    "df, y, nas, mapper = proc_df(proc_train, 'Value', do_scale=True)\n",
    "yl = np.log(y)"
   ]
  },
  {
   "cell_type": "code",
   "execution_count": 58,
   "metadata": {},
   "outputs": [],
   "source": [
    "df_test, _, nas, mapper = proc_df(proc_test, 'Value', do_scale=True,\n",
    "                                  mapper=mapper, na_dict=nas)"
   ]
  },
  {
   "cell_type": "code",
   "execution_count": 59,
   "metadata": {},
   "outputs": [
    {
     "data": {
      "text/plain": [
       "(1309176, 26)"
      ]
     },
     "execution_count": 59,
     "metadata": {},
     "output_type": "execute_result"
    }
   ],
   "source": [
    "df_test.shape"
   ]
  },
  {
   "cell_type": "code",
   "execution_count": 60,
   "metadata": {},
   "outputs": [],
   "source": [
    "val_idx = np.flatnonzero(\n",
    "    (df.index<=datetime.date(2015,11,19)) & (df.index>=datetime.date(2015,11,2)))"
   ]
  },
  {
   "cell_type": "code",
   "execution_count": 61,
   "metadata": {},
   "outputs": [
    {
     "data": {
      "text/plain": [
       "array([    357,     358,     359,     360,     361,     362,     363,     364,     365,     366,     367,\n",
       "           368,     369,     370,     371,     372,     373,     374,   21605,   21606, ..., 6472614,\n",
       "       6472615, 6472616, 6472617, 6472618, 6472619, 6472620, 6472621, 6472622, 6472623, 6472624, 6472625,\n",
       "       6472626, 6472627, 6472628, 6472629, 6472630, 6472631, 6472632, 6472633])"
      ]
     },
     "execution_count": 61,
     "metadata": {},
     "output_type": "execute_result"
    }
   ],
   "source": [
    "val_idx"
   ]
  },
  {
   "cell_type": "code",
   "execution_count": 62,
   "metadata": {},
   "outputs": [],
   "source": [
    "def inv_y(a): return np.exp(a)\n",
    "\n",
    "def exp_rmspe(y_pred, targ):\n",
    "    targ = inv_y(targ)\n",
    "    pct_var = (targ - inv_y(y_pred))/targ\n",
    "    return math.sqrt((pct_var**2).mean())\n",
    "\n",
    "max_log_y = np.max(yl)\n",
    "y_range = (0, max_log_y*1.2)"
   ]
  },
  {
   "cell_type": "code",
   "execution_count": 63,
   "metadata": {},
   "outputs": [],
   "source": [
    "md = ColumnarModelData.from_data_frame(PATH, val_idx, df, yl.astype(np.float32), cat_flds=cat_vars, bs=128,\n",
    "                                       test_df=df_test)"
   ]
  },
  {
   "cell_type": "code",
   "execution_count": 64,
   "metadata": {},
   "outputs": [],
   "source": [
    "cat_sz = [(c, len(proc_train[c].cat.categories)+1) for c in cat_vars]"
   ]
  },
  {
   "cell_type": "code",
   "execution_count": 65,
   "metadata": {},
   "outputs": [],
   "source": [
    "emb_szs = [(c, min(50, (c+1)//2)) for _,c in cat_sz]"
   ]
  },
  {
   "cell_type": "code",
   "execution_count": 66,
   "metadata": {},
   "outputs": [],
   "source": [
    "m = md.get_learner(emb_szs, len(df.columns)-len(cat_vars),\n",
    "                   0.04, 1, [1000,500], [0.001,0.01], y_range=y_range)\n",
    "lr = 1e-3"
   ]
  },
  {
   "cell_type": "code",
   "execution_count": 173,
   "metadata": {},
   "outputs": [
    {
     "data": {
      "application/vnd.jupyter.widget-view+json": {
       "model_id": "cb34b14b1f48438db3232938e9d67898",
       "version_major": 2,
       "version_minor": 0
      },
      "text/html": [
       "<p>Failed to display Jupyter Widget of type <code>HBox</code>.</p>\n",
       "<p>\n",
       "  If you're reading this message in the Jupyter Notebook or JupyterLab Notebook, it may mean\n",
       "  that the widgets JavaScript is still loading. If this message persists, it\n",
       "  likely means that the widgets JavaScript library is either not installed or\n",
       "  not enabled. See the <a href=\"https://ipywidgets.readthedocs.io/en/stable/user_install.html\">Jupyter\n",
       "  Widgets Documentation</a> for setup instructions.\n",
       "</p>\n",
       "<p>\n",
       "  If you're reading this message in another frontend (for example, a static\n",
       "  rendering on GitHub or <a href=\"https://nbviewer.jupyter.org/\">NBViewer</a>),\n",
       "  it may mean that your frontend doesn't currently support widgets.\n",
       "</p>\n"
      ],
      "text/plain": [
       "HBox(children=(IntProgress(value=0, description='Epoch', max=1), HTML(value='')))"
      ]
     },
     "metadata": {},
     "output_type": "display_data"
    },
    {
     "name": "stdout",
     "output_type": "stream",
     "text": [
      " 59%|█████▉    | 29460/49948 [04:20<03:00, 113.20it/s, loss=1.58] "
     ]
    }
   ],
   "source": [
    "m.lr_find()"
   ]
  },
  {
   "cell_type": "code",
   "execution_count": 174,
   "metadata": {},
   "outputs": [
    {
     "data": {
      "image/png": "[encoded data removed]",
      "text/plain": [
       "<matplotlib.figure.Figure at 0x7ff5e8798e48>"
      ]
     },
     "metadata": {},
     "output_type": "display_data"
    }
   ],
   "source": [
    "m.sched.plot(100)"
   ]
  },
  {
   "cell_type": "code",
   "execution_count": 67,
   "metadata": {},
   "outputs": [
    {
     "data": {
      "application/vnd.jupyter.widget-view+json": {
       "model_id": "8f357a2c67d34c7fbb34be8f6ebffde8",
       "version_major": 2,
       "version_minor": 0
      },
      "text/html": [
       "<p>Failed to display Jupyter Widget of type <code>HBox</code>.</p>\n",
       "<p>\n",
       "  If you're reading this message in the Jupyter Notebook or JupyterLab Notebook, it may mean\n",
       "  that the widgets JavaScript is still loading. If this message persists, it\n",
       "  likely means that the widgets JavaScript library is either not installed or\n",
       "  not enabled. See the <a href=\"https://ipywidgets.readthedocs.io/en/stable/user_install.html\">Jupyter\n",
       "  Widgets Documentation</a> for setup instructions.\n",
       "</p>\n",
       "<p>\n",
       "  If you're reading this message in another frontend (for example, a static\n",
       "  rendering on GitHub or <a href=\"https://nbviewer.jupyter.org/\">NBViewer</a>),\n",
       "  it may mean that your frontend doesn't currently support widgets.\n",
       "</p>\n"
      ],
      "text/plain": [
       "HBox(children=(IntProgress(value=0, description='Epoch', max=3), HTML(value='')))"
      ]
     },
     "metadata": {},
     "output_type": "display_data"
    },
    {
     "name": "stdout",
     "output_type": "stream",
     "text": [
      "epoch      trn_loss   val_loss   exp_rmspe                        \n",
      "    0      0.247922   0.684131   2.39178   \n",
      "    1      0.251817   0.637423   2.432638                         \n",
      "    2      0.213264   0.601745   1.850215                         \n",
      "\n"
     ]
    },
    {
     "data": {
      "text/plain": [
       "[0.60174483, 1.8502146993026323]"
      ]
     },
     "execution_count": 67,
     "metadata": {},
     "output_type": "execute_result"
    }
   ],
   "source": [
    "m.fit(lr, 3, metrics=[exp_rmspe])"
   ]
  },
  {
   "cell_type": "code",
   "execution_count": 68,
   "metadata": {},
   "outputs": [],
   "source": [
    "pred_test = m.predict(True)"
   ]
  },
  {
   "cell_type": "code",
   "execution_count": 69,
   "metadata": {},
   "outputs": [],
   "source": [
    "pred_test = np.exp(pred_test)"
   ]
  },
  {
   "cell_type": "code",
   "execution_count": 70,
   "metadata": {},
   "outputs": [
    {
     "data": {
      "text/plain": [
       "1309176"
      ]
     },
     "execution_count": 70,
     "metadata": {},
     "output_type": "execute_result"
    }
   ],
   "source": [
    "len(pred_test)"
   ]
  },
  {
   "cell_type": "code",
   "execution_count": 182,
   "metadata": {},
   "outputs": [
    {
     "data": {
      "text/plain": [
       "1309176"
      ]
     },
     "execution_count": 182,
     "metadata": {},
     "output_type": "execute_result"
    }
   ],
   "source": [
    "len(submission_format)"
   ]
  },
  {
   "cell_type": "code",
   "execution_count": 82,
   "metadata": {},
   "outputs": [],
   "source": [
    "submission_format['Value'] = pred_test"
   ]
  },
  {
   "cell_type": "code",
   "execution_count": 85,
   "metadata": {},
   "outputs": [],
   "source": [
    "submission_format.to_csv('submission_format.csv',index=False)"
   ]
  },
  {
   "cell_type": "code",
   "execution_count": 86,
   "metadata": {},
   "outputs": [
    {
     "data": {
      "text/html": [
       "<div>\n",
       "<style scoped>\n",
       "    .dataframe tbody tr th:only-of-type {\n",
       "        vertical-align: middle;\n",
       "    }\n",
       "\n",
       "    .dataframe tbody tr th {\n",
       "        vertical-align: top;\n",
       "    }\n",
       "\n",
       "    .dataframe thead th {\n",
       "        text-align: right;\n",
       "    }\n",
       "</style>\n",
       "<table border=\"1\" class=\"dataframe\">\n",
       "  <thead>\n",
       "    <tr style=\"text-align: right;\">\n",
       "      <th></th>\n",
       "      <th>obs_id</th>\n",
       "      <th>SiteId</th>\n",
       "      <th>Timestamp</th>\n",
       "      <th>ForecastId</th>\n",
       "      <th>Value</th>\n",
       "    </tr>\n",
       "  </thead>\n",
       "  <tbody>\n",
       "    <tr>\n",
       "      <th>0</th>\n",
       "      <td>1677832</td>\n",
       "      <td>1</td>\n",
       "      <td>2015-08-29 00:00:00</td>\n",
       "      <td>1</td>\n",
       "      <td>2.878997e+06</td>\n",
       "    </tr>\n",
       "    <tr>\n",
       "      <th>1</th>\n",
       "      <td>5379616</td>\n",
       "      <td>1</td>\n",
       "      <td>2015-08-30 00:00:00</td>\n",
       "      <td>1</td>\n",
       "      <td>3.361612e+06</td>\n",
       "    </tr>\n",
       "    <tr>\n",
       "      <th>2</th>\n",
       "      <td>496261</td>\n",
       "      <td>1</td>\n",
       "      <td>2015-08-31 00:00:00</td>\n",
       "      <td>1</td>\n",
       "      <td>5.077796e+06</td>\n",
       "    </tr>\n",
       "    <tr>\n",
       "      <th>3</th>\n",
       "      <td>4567147</td>\n",
       "      <td>1</td>\n",
       "      <td>2015-09-01 00:00:00</td>\n",
       "      <td>1</td>\n",
       "      <td>4.834590e+06</td>\n",
       "    </tr>\n",
       "    <tr>\n",
       "      <th>4</th>\n",
       "      <td>3684873</td>\n",
       "      <td>1</td>\n",
       "      <td>2015-09-02 00:00:00</td>\n",
       "      <td>1</td>\n",
       "      <td>5.112801e+06</td>\n",
       "    </tr>\n",
       "    <tr>\n",
       "      <th>5</th>\n",
       "      <td>4698291</td>\n",
       "      <td>1</td>\n",
       "      <td>2015-09-03 00:00:00</td>\n",
       "      <td>1</td>\n",
       "      <td>5.013370e+06</td>\n",
       "    </tr>\n",
       "    <tr>\n",
       "      <th>6</th>\n",
       "      <td>1129255</td>\n",
       "      <td>1</td>\n",
       "      <td>2015-09-04 00:00:00</td>\n",
       "      <td>1</td>\n",
       "      <td>4.745319e+06</td>\n",
       "    </tr>\n",
       "    <tr>\n",
       "      <th>7</th>\n",
       "      <td>834539</td>\n",
       "      <td>1</td>\n",
       "      <td>2015-09-05 00:00:00</td>\n",
       "      <td>1</td>\n",
       "      <td>3.135379e+06</td>\n",
       "    </tr>\n",
       "    <tr>\n",
       "      <th>8</th>\n",
       "      <td>3293948</td>\n",
       "      <td>1</td>\n",
       "      <td>2015-09-06 00:00:00</td>\n",
       "      <td>1</td>\n",
       "      <td>3.151302e+06</td>\n",
       "    </tr>\n",
       "    <tr>\n",
       "      <th>9</th>\n",
       "      <td>5460161</td>\n",
       "      <td>1</td>\n",
       "      <td>2015-09-07 00:00:00</td>\n",
       "      <td>1</td>\n",
       "      <td>5.094661e+06</td>\n",
       "    </tr>\n",
       "    <tr>\n",
       "      <th>10</th>\n",
       "      <td>3542163</td>\n",
       "      <td>1</td>\n",
       "      <td>2015-09-08 00:00:00</td>\n",
       "      <td>1</td>\n",
       "      <td>4.697160e+06</td>\n",
       "    </tr>\n",
       "    <tr>\n",
       "      <th>11</th>\n",
       "      <td>2692016</td>\n",
       "      <td>1</td>\n",
       "      <td>2015-09-09 00:00:00</td>\n",
       "      <td>1</td>\n",
       "      <td>4.601317e+06</td>\n",
       "    </tr>\n",
       "    <tr>\n",
       "      <th>12</th>\n",
       "      <td>563674</td>\n",
       "      <td>1</td>\n",
       "      <td>2015-09-10 00:00:00</td>\n",
       "      <td>1</td>\n",
       "      <td>4.853651e+06</td>\n",
       "    </tr>\n",
       "    <tr>\n",
       "      <th>13</th>\n",
       "      <td>5864230</td>\n",
       "      <td>1</td>\n",
       "      <td>2015-09-11 00:00:00</td>\n",
       "      <td>1</td>\n",
       "      <td>4.915653e+06</td>\n",
       "    </tr>\n",
       "    <tr>\n",
       "      <th>14</th>\n",
       "      <td>327461</td>\n",
       "      <td>1</td>\n",
       "      <td>2015-09-12 00:00:00</td>\n",
       "      <td>1</td>\n",
       "      <td>2.948299e+06</td>\n",
       "    </tr>\n",
       "    <tr>\n",
       "      <th>15</th>\n",
       "      <td>6115353</td>\n",
       "      <td>1</td>\n",
       "      <td>2015-09-13 00:00:00</td>\n",
       "      <td>1</td>\n",
       "      <td>2.622494e+06</td>\n",
       "    </tr>\n",
       "    <tr>\n",
       "      <th>16</th>\n",
       "      <td>1821455</td>\n",
       "      <td>1</td>\n",
       "      <td>2015-09-14 00:00:00</td>\n",
       "      <td>1</td>\n",
       "      <td>5.251963e+06</td>\n",
       "    </tr>\n",
       "    <tr>\n",
       "      <th>17</th>\n",
       "      <td>5788689</td>\n",
       "      <td>1</td>\n",
       "      <td>2015-09-15 00:00:00</td>\n",
       "      <td>1</td>\n",
       "      <td>5.076924e+06</td>\n",
       "    </tr>\n",
       "    <tr>\n",
       "      <th>18</th>\n",
       "      <td>606290</td>\n",
       "      <td>1</td>\n",
       "      <td>2015-09-16 00:00:00</td>\n",
       "      <td>1</td>\n",
       "      <td>4.706631e+06</td>\n",
       "    </tr>\n",
       "    <tr>\n",
       "      <th>19</th>\n",
       "      <td>3126247</td>\n",
       "      <td>1</td>\n",
       "      <td>2015-09-17 00:00:00</td>\n",
       "      <td>1</td>\n",
       "      <td>4.834534e+06</td>\n",
       "    </tr>\n",
       "    <tr>\n",
       "      <th>20</th>\n",
       "      <td>4370287</td>\n",
       "      <td>1</td>\n",
       "      <td>2015-09-18 00:00:00</td>\n",
       "      <td>1</td>\n",
       "      <td>5.490762e+06</td>\n",
       "    </tr>\n",
       "    <tr>\n",
       "      <th>21</th>\n",
       "      <td>5371834</td>\n",
       "      <td>1</td>\n",
       "      <td>2015-09-19 00:00:00</td>\n",
       "      <td>1</td>\n",
       "      <td>3.407237e+06</td>\n",
       "    </tr>\n",
       "    <tr>\n",
       "      <th>22</th>\n",
       "      <td>139962</td>\n",
       "      <td>1</td>\n",
       "      <td>2015-09-20 00:00:00</td>\n",
       "      <td>1</td>\n",
       "      <td>3.431914e+06</td>\n",
       "    </tr>\n",
       "    <tr>\n",
       "      <th>23</th>\n",
       "      <td>2493263</td>\n",
       "      <td>1</td>\n",
       "      <td>2015-09-21 00:00:00</td>\n",
       "      <td>1</td>\n",
       "      <td>5.715743e+06</td>\n",
       "    </tr>\n",
       "    <tr>\n",
       "      <th>24</th>\n",
       "      <td>2436361</td>\n",
       "      <td>1</td>\n",
       "      <td>2015-09-22 00:00:00</td>\n",
       "      <td>1</td>\n",
       "      <td>5.383524e+06</td>\n",
       "    </tr>\n",
       "    <tr>\n",
       "      <th>25</th>\n",
       "      <td>1463285</td>\n",
       "      <td>1</td>\n",
       "      <td>2015-09-23 00:00:00</td>\n",
       "      <td>1</td>\n",
       "      <td>4.679424e+06</td>\n",
       "    </tr>\n",
       "    <tr>\n",
       "      <th>26</th>\n",
       "      <td>2740152</td>\n",
       "      <td>1</td>\n",
       "      <td>2015-09-24 00:00:00</td>\n",
       "      <td>1</td>\n",
       "      <td>4.720935e+06</td>\n",
       "    </tr>\n",
       "    <tr>\n",
       "      <th>27</th>\n",
       "      <td>7060651</td>\n",
       "      <td>1</td>\n",
       "      <td>2015-09-25 00:00:00</td>\n",
       "      <td>1</td>\n",
       "      <td>4.983872e+06</td>\n",
       "    </tr>\n",
       "    <tr>\n",
       "      <th>28</th>\n",
       "      <td>1171081</td>\n",
       "      <td>1</td>\n",
       "      <td>2015-09-26 00:00:00</td>\n",
       "      <td>1</td>\n",
       "      <td>3.017741e+06</td>\n",
       "    </tr>\n",
       "    <tr>\n",
       "      <th>29</th>\n",
       "      <td>4764092</td>\n",
       "      <td>1</td>\n",
       "      <td>2015-09-27 00:00:00</td>\n",
       "      <td>1</td>\n",
       "      <td>3.301878e+06</td>\n",
       "    </tr>\n",
       "    <tr>\n",
       "      <th>...</th>\n",
       "      <td>...</td>\n",
       "      <td>...</td>\n",
       "      <td>...</td>\n",
       "      <td>...</td>\n",
       "      <td>...</td>\n",
       "    </tr>\n",
       "    <tr>\n",
       "      <th>1309146</th>\n",
       "      <td>5919256</td>\n",
       "      <td>305</td>\n",
       "      <td>2015-11-21 05:15:00</td>\n",
       "      <td>6974</td>\n",
       "      <td>1.553427e+03</td>\n",
       "    </tr>\n",
       "    <tr>\n",
       "      <th>1309147</th>\n",
       "      <td>1677230</td>\n",
       "      <td>305</td>\n",
       "      <td>2015-11-21 05:30:00</td>\n",
       "      <td>6974</td>\n",
       "      <td>1.411824e+03</td>\n",
       "    </tr>\n",
       "    <tr>\n",
       "      <th>1309148</th>\n",
       "      <td>5952505</td>\n",
       "      <td>305</td>\n",
       "      <td>2015-11-21 05:45:00</td>\n",
       "      <td>6974</td>\n",
       "      <td>1.365655e+03</td>\n",
       "    </tr>\n",
       "    <tr>\n",
       "      <th>1309149</th>\n",
       "      <td>7136563</td>\n",
       "      <td>305</td>\n",
       "      <td>2015-11-21 06:00:00</td>\n",
       "      <td>6974</td>\n",
       "      <td>1.617441e+03</td>\n",
       "    </tr>\n",
       "    <tr>\n",
       "      <th>1309150</th>\n",
       "      <td>1167817</td>\n",
       "      <td>305</td>\n",
       "      <td>2015-11-21 06:15:00</td>\n",
       "      <td>6974</td>\n",
       "      <td>1.532200e+03</td>\n",
       "    </tr>\n",
       "    <tr>\n",
       "      <th>1309151</th>\n",
       "      <td>109137</td>\n",
       "      <td>305</td>\n",
       "      <td>2015-11-21 06:30:00</td>\n",
       "      <td>6974</td>\n",
       "      <td>1.385873e+03</td>\n",
       "    </tr>\n",
       "    <tr>\n",
       "      <th>1309152</th>\n",
       "      <td>4163975</td>\n",
       "      <td>305</td>\n",
       "      <td>2015-11-21 06:45:00</td>\n",
       "      <td>6974</td>\n",
       "      <td>1.318383e+03</td>\n",
       "    </tr>\n",
       "    <tr>\n",
       "      <th>1309153</th>\n",
       "      <td>1489507</td>\n",
       "      <td>305</td>\n",
       "      <td>2015-11-21 07:00:00</td>\n",
       "      <td>6974</td>\n",
       "      <td>1.343076e+03</td>\n",
       "    </tr>\n",
       "    <tr>\n",
       "      <th>1309154</th>\n",
       "      <td>5730113</td>\n",
       "      <td>305</td>\n",
       "      <td>2015-11-21 07:15:00</td>\n",
       "      <td>6974</td>\n",
       "      <td>1.705899e+03</td>\n",
       "    </tr>\n",
       "    <tr>\n",
       "      <th>1309155</th>\n",
       "      <td>3039676</td>\n",
       "      <td>305</td>\n",
       "      <td>2015-11-21 07:30:00</td>\n",
       "      <td>6974</td>\n",
       "      <td>1.932968e+03</td>\n",
       "    </tr>\n",
       "    <tr>\n",
       "      <th>1309156</th>\n",
       "      <td>7737579</td>\n",
       "      <td>305</td>\n",
       "      <td>2015-11-21 07:45:00</td>\n",
       "      <td>6974</td>\n",
       "      <td>2.299378e+03</td>\n",
       "    </tr>\n",
       "    <tr>\n",
       "      <th>1309157</th>\n",
       "      <td>2912248</td>\n",
       "      <td>305</td>\n",
       "      <td>2015-11-21 08:00:00</td>\n",
       "      <td>6974</td>\n",
       "      <td>9.665717e+02</td>\n",
       "    </tr>\n",
       "    <tr>\n",
       "      <th>1309158</th>\n",
       "      <td>1876056</td>\n",
       "      <td>305</td>\n",
       "      <td>2015-11-21 08:15:00</td>\n",
       "      <td>6974</td>\n",
       "      <td>1.323162e+03</td>\n",
       "    </tr>\n",
       "    <tr>\n",
       "      <th>1309159</th>\n",
       "      <td>430888</td>\n",
       "      <td>305</td>\n",
       "      <td>2015-11-21 08:30:00</td>\n",
       "      <td>6974</td>\n",
       "      <td>2.767682e+03</td>\n",
       "    </tr>\n",
       "    <tr>\n",
       "      <th>1309160</th>\n",
       "      <td>214541</td>\n",
       "      <td>305</td>\n",
       "      <td>2015-11-21 08:45:00</td>\n",
       "      <td>6974</td>\n",
       "      <td>3.217662e+03</td>\n",
       "    </tr>\n",
       "    <tr>\n",
       "      <th>1309161</th>\n",
       "      <td>5905504</td>\n",
       "      <td>305</td>\n",
       "      <td>2015-11-21 09:00:00</td>\n",
       "      <td>6974</td>\n",
       "      <td>1.860522e+03</td>\n",
       "    </tr>\n",
       "    <tr>\n",
       "      <th>1309162</th>\n",
       "      <td>5051734</td>\n",
       "      <td>305</td>\n",
       "      <td>2015-11-21 09:15:00</td>\n",
       "      <td>6974</td>\n",
       "      <td>2.661899e+03</td>\n",
       "    </tr>\n",
       "    <tr>\n",
       "      <th>1309163</th>\n",
       "      <td>3506039</td>\n",
       "      <td>305</td>\n",
       "      <td>2015-11-21 09:30:00</td>\n",
       "      <td>6974</td>\n",
       "      <td>3.294488e+03</td>\n",
       "    </tr>\n",
       "    <tr>\n",
       "      <th>1309164</th>\n",
       "      <td>4535763</td>\n",
       "      <td>305</td>\n",
       "      <td>2015-11-21 09:45:00</td>\n",
       "      <td>6974</td>\n",
       "      <td>4.359067e+03</td>\n",
       "    </tr>\n",
       "    <tr>\n",
       "      <th>1309165</th>\n",
       "      <td>7207196</td>\n",
       "      <td>305</td>\n",
       "      <td>2015-11-21 10:00:00</td>\n",
       "      <td>6974</td>\n",
       "      <td>3.173773e+03</td>\n",
       "    </tr>\n",
       "    <tr>\n",
       "      <th>1309166</th>\n",
       "      <td>5380624</td>\n",
       "      <td>305</td>\n",
       "      <td>2015-11-21 10:15:00</td>\n",
       "      <td>6974</td>\n",
       "      <td>3.330917e+03</td>\n",
       "    </tr>\n",
       "    <tr>\n",
       "      <th>1309167</th>\n",
       "      <td>1201414</td>\n",
       "      <td>305</td>\n",
       "      <td>2015-11-21 10:30:00</td>\n",
       "      <td>6974</td>\n",
       "      <td>3.822749e+03</td>\n",
       "    </tr>\n",
       "    <tr>\n",
       "      <th>1309168</th>\n",
       "      <td>7771177</td>\n",
       "      <td>305</td>\n",
       "      <td>2015-11-21 10:45:00</td>\n",
       "      <td>6974</td>\n",
       "      <td>4.143374e+03</td>\n",
       "    </tr>\n",
       "    <tr>\n",
       "      <th>1309169</th>\n",
       "      <td>6195326</td>\n",
       "      <td>305</td>\n",
       "      <td>2015-11-21 11:00:00</td>\n",
       "      <td>6974</td>\n",
       "      <td>3.207867e+03</td>\n",
       "    </tr>\n",
       "    <tr>\n",
       "      <th>1309170</th>\n",
       "      <td>6386044</td>\n",
       "      <td>305</td>\n",
       "      <td>2015-11-21 11:15:00</td>\n",
       "      <td>6974</td>\n",
       "      <td>3.690078e+03</td>\n",
       "    </tr>\n",
       "    <tr>\n",
       "      <th>1309171</th>\n",
       "      <td>6226412</td>\n",
       "      <td>305</td>\n",
       "      <td>2015-11-21 11:30:00</td>\n",
       "      <td>6974</td>\n",
       "      <td>3.845877e+03</td>\n",
       "    </tr>\n",
       "    <tr>\n",
       "      <th>1309172</th>\n",
       "      <td>4466872</td>\n",
       "      <td>305</td>\n",
       "      <td>2015-11-21 11:45:00</td>\n",
       "      <td>6974</td>\n",
       "      <td>3.912205e+03</td>\n",
       "    </tr>\n",
       "    <tr>\n",
       "      <th>1309173</th>\n",
       "      <td>2951966</td>\n",
       "      <td>305</td>\n",
       "      <td>2015-11-21 12:00:00</td>\n",
       "      <td>6974</td>\n",
       "      <td>2.984451e+03</td>\n",
       "    </tr>\n",
       "    <tr>\n",
       "      <th>1309174</th>\n",
       "      <td>6044913</td>\n",
       "      <td>305</td>\n",
       "      <td>2015-11-21 12:15:00</td>\n",
       "      <td>6974</td>\n",
       "      <td>3.334572e+03</td>\n",
       "    </tr>\n",
       "    <tr>\n",
       "      <th>1309175</th>\n",
       "      <td>6704022</td>\n",
       "      <td>305</td>\n",
       "      <td>2015-11-21 12:30:00</td>\n",
       "      <td>6974</td>\n",
       "      <td>3.516170e+03</td>\n",
       "    </tr>\n",
       "  </tbody>\n",
       "</table>\n",
       "<p>1309176 rows × 5 columns</p>\n",
       "</div>"
      ],
      "text/plain": [
       "          obs_id  SiteId            Timestamp  ForecastId         Value\n",
       "0        1677832       1  2015-08-29 00:00:00           1  2.878997e+06\n",
       "1        5379616       1  2015-08-30 00:00:00           1  3.361612e+06\n",
       "2         496261       1  2015-08-31 00:00:00           1  5.077796e+06\n",
       "3        4567147       1  2015-09-01 00:00:00           1  4.834590e+06\n",
       "4        3684873       1  2015-09-02 00:00:00           1  5.112801e+06\n",
       "5        4698291       1  2015-09-03 00:00:00           1  5.013370e+06\n",
       "6        1129255       1  2015-09-04 00:00:00           1  4.745319e+06\n",
       "7         834539       1  2015-09-05 00:00:00           1  3.135379e+06\n",
       "8        3293948       1  2015-09-06 00:00:00           1  3.151302e+06\n",
       "9        5460161       1  2015-09-07 00:00:00           1  5.094661e+06\n",
       "10       3542163       1  2015-09-08 00:00:00           1  4.697160e+06\n",
       "11       2692016       1  2015-09-09 00:00:00           1  4.601317e+06\n",
       "12        563674       1  2015-09-10 00:00:00           1  4.853651e+06\n",
       "13       5864230       1  2015-09-11 00:00:00           1  4.915653e+06\n",
       "14        327461       1  2015-09-12 00:00:00           1  2.948299e+06\n",
       "15       6115353       1  2015-09-13 00:00:00           1  2.622494e+06\n",
       "16       1821455       1  2015-09-14 00:00:00           1  5.251963e+06\n",
       "17       5788689       1  2015-09-15 00:00:00           1  5.076924e+06\n",
       "18        606290       1  2015-09-16 00:00:00           1  4.706631e+06\n",
       "19       3126247       1  2015-09-17 00:00:00           1  4.834534e+06\n",
       "20       4370287       1  2015-09-18 00:00:00           1  5.490762e+06\n",
       "21       5371834       1  2015-09-19 00:00:00           1  3.407237e+06\n",
       "22        139962       1  2015-09-20 00:00:00           1  3.431914e+06\n",
       "23       2493263       1  2015-09-21 00:00:00           1  5.715743e+06\n",
       "24       2436361       1  2015-09-22 00:00:00           1  5.383524e+06\n",
       "25       1463285       1  2015-09-23 00:00:00           1  4.679424e+06\n",
       "26       2740152       1  2015-09-24 00:00:00           1  4.720935e+06\n",
       "27       7060651       1  2015-09-25 00:00:00           1  4.983872e+06\n",
       "28       1171081       1  2015-09-26 00:00:00           1  3.017741e+06\n",
       "29       4764092       1  2015-09-27 00:00:00           1  3.301878e+06\n",
       "...          ...     ...                  ...         ...           ...\n",
       "1309146  5919256     305  2015-11-21 05:15:00        6974  1.553427e+03\n",
       "1309147  1677230     305  2015-11-21 05:30:00        6974  1.411824e+03\n",
       "1309148  5952505     305  2015-11-21 05:45:00        6974  1.365655e+03\n",
       "1309149  7136563     305  2015-11-21 06:00:00        6974  1.617441e+03\n",
       "1309150  1167817     305  2015-11-21 06:15:00        6974  1.532200e+03\n",
       "1309151   109137     305  2015-11-21 06:30:00        6974  1.385873e+03\n",
       "1309152  4163975     305  2015-11-21 06:45:00        6974  1.318383e+03\n",
       "1309153  1489507     305  2015-11-21 07:00:00        6974  1.343076e+03\n",
       "1309154  5730113     305  2015-11-21 07:15:00        6974  1.705899e+03\n",
       "1309155  3039676     305  2015-11-21 07:30:00        6974  1.932968e+03\n",
       "1309156  7737579     305  2015-11-21 07:45:00        6974  2.299378e+03\n",
       "1309157  2912248     305  2015-11-21 08:00:00        6974  9.665717e+02\n",
       "1309158  1876056     305  2015-11-21 08:15:00        6974  1.323162e+03\n",
       "1309159   430888     305  2015-11-21 08:30:00        6974  2.767682e+03\n",
       "1309160   214541     305  2015-11-21 08:45:00        6974  3.217662e+03\n",
       "1309161  5905504     305  2015-11-21 09:00:00        6974  1.860522e+03\n",
       "1309162  5051734     305  2015-11-21 09:15:00        6974  2.661899e+03\n",
       "1309163  3506039     305  2015-11-21 09:30:00        6974  3.294488e+03\n",
       "1309164  4535763     305  2015-11-21 09:45:00        6974  4.359067e+03\n",
       "1309165  7207196     305  2015-11-21 10:00:00        6974  3.173773e+03\n",
       "1309166  5380624     305  2015-11-21 10:15:00        6974  3.330917e+03\n",
       "1309167  1201414     305  2015-11-21 10:30:00        6974  3.822749e+03\n",
       "1309168  7771177     305  2015-11-21 10:45:00        6974  4.143374e+03\n",
       "1309169  6195326     305  2015-11-21 11:00:00        6974  3.207867e+03\n",
       "1309170  6386044     305  2015-11-21 11:15:00        6974  3.690078e+03\n",
       "1309171  6226412     305  2015-11-21 11:30:00        6974  3.845877e+03\n",
       "1309172  4466872     305  2015-11-21 11:45:00        6974  3.912205e+03\n",
       "1309173  2951966     305  2015-11-21 12:00:00        6974  2.984451e+03\n",
       "1309174  6044913     305  2015-11-21 12:15:00        6974  3.334572e+03\n",
       "1309175  6704022     305  2015-11-21 12:30:00        6974  3.516170e+03\n",
       "\n",
       "[1309176 rows x 5 columns]"
      ]
     },
     "execution_count": 86,
     "metadata": {},
     "output_type": "execute_result"
    }
   ],
   "source": [
    "submission_format"
   ]
  },
  {
   "cell_type": "markdown",
   "metadata": {},
   "source": [
    "### Trying to create input x"
   ]
  },
  {
   "cell_type": "code",
   "execution_count": 32,
   "metadata": {
    "ExecuteTime": {
     "end_time": "2018-04-07T03:20:41.501989Z",
     "start_time": "2018-04-07T03:20:41.267296Z"
    }
   },
   "outputs": [],
   "source": [
    "embs = nn.ModuleList([nn.Embedding(c, s) for c,s in emb_szs])"
   ]
  },
  {
   "cell_type": "code",
   "execution_count": 45,
   "metadata": {
    "ExecuteTime": {
     "end_time": "2018-04-07T04:39:20.590851Z",
     "start_time": "2018-04-07T04:39:20.587466Z"
    }
   },
   "outputs": [
    {
     "data": {
      "text/plain": [
       "Embedding(62806, 50)"
      ]
     },
     "execution_count": 45,
     "metadata": {},
     "output_type": "execute_result"
    }
   ],
   "source": [
    "embs[0]"
   ]
  },
  {
   "cell_type": "code",
   "execution_count": 46,
   "metadata": {
    "ExecuteTime": {
     "end_time": "2018-04-07T04:39:50.213856Z",
     "start_time": "2018-04-07T04:39:50.209651Z"
    }
   },
   "outputs": [
    {
     "data": {
      "text/plain": [
       "[('ip', 62806),\n",
       " ('app', 327),\n",
       " ('device', 976),\n",
       " ('os', 280),\n",
       " ('channel', 174),\n",
       " ('year', 2),\n",
       " ('month', 2),\n",
       " ('day', 2),\n",
       " ('hour', 5),\n",
       " ('minute', 61),\n",
       " ('second', 61),\n",
       " ('day_of_week', 2),\n",
       " ('day_of_year', 2)]"
      ]
     },
     "execution_count": 46,
     "metadata": {},
     "output_type": "execute_result"
    }
   ],
   "source": [
    "cat_sz"
   ]
  },
  {
   "cell_type": "code",
   "execution_count": 33,
   "metadata": {
    "ExecuteTime": {
     "end_time": "2018-04-07T03:21:00.357517Z",
     "start_time": "2018-04-07T03:21:00.329500Z"
    }
   },
   "outputs": [],
   "source": [
    "for emb in embs: emb_init(emb)"
   ]
  },
  {
   "cell_type": "code",
   "execution_count": 34,
   "metadata": {
    "ExecuteTime": {
     "end_time": "2018-04-07T03:21:18.279044Z",
     "start_time": "2018-04-07T03:21:18.276655Z"
    }
   },
   "outputs": [],
   "source": [
    "n_emb = sum(e.embedding_dim for e in embs)"
   ]
  },
  {
   "cell_type": "code",
   "execution_count": 35,
   "metadata": {
    "ExecuteTime": {
     "end_time": "2018-04-07T03:21:42.234072Z",
     "start_time": "2018-04-07T03:21:42.089755Z"
    }
   },
   "outputs": [
    {
     "ename": "NameError",
     "evalue": "name 'x_cat' is not defined",
     "output_type": "error",
     "traceback": [
      "\u001b[0;31m----------------------------------------\u001b[0m",
      "\u001b[0;31mNameError\u001b[0mTraceback (most recent call last)",
      "\u001b[0;32m<ipython-input-35-20f6869d8419>\u001b[0m in \u001b[0;36m<module>\u001b[0;34m()\u001b[0m\n\u001b[0;32m----> 1\u001b[0;31m \u001b[0mx\u001b[0m \u001b[0;34m=\u001b[0m \u001b[0;34m[\u001b[0m\u001b[0me\u001b[0m\u001b[0;34m(\u001b[0m\u001b[0mx_cat\u001b[0m\u001b[0;34m[\u001b[0m\u001b[0;34m:\u001b[0m\u001b[0;34m,\u001b[0m\u001b[0mi\u001b[0m\u001b[0;34m]\u001b[0m\u001b[0;34m)\u001b[0m \u001b[0;32mfor\u001b[0m \u001b[0mi\u001b[0m\u001b[0;34m,\u001b[0m\u001b[0me\u001b[0m \u001b[0;32min\u001b[0m \u001b[0menumerate\u001b[0m\u001b[0;34m(\u001b[0m\u001b[0membs\u001b[0m\u001b[0;34m)\u001b[0m\u001b[0;34m]\u001b[0m\u001b[0;34m\u001b[0m\u001b[0m\n\u001b[0m",
      "\u001b[0;32m<ipython-input-35-20f6869d8419>\u001b[0m in \u001b[0;36m<listcomp>\u001b[0;34m(.0)\u001b[0m\n\u001b[0;32m----> 1\u001b[0;31m \u001b[0mx\u001b[0m \u001b[0;34m=\u001b[0m \u001b[0;34m[\u001b[0m\u001b[0me\u001b[0m\u001b[0;34m(\u001b[0m\u001b[0mx_cat\u001b[0m\u001b[0;34m[\u001b[0m\u001b[0;34m:\u001b[0m\u001b[0;34m,\u001b[0m\u001b[0mi\u001b[0m\u001b[0;34m]\u001b[0m\u001b[0;34m)\u001b[0m \u001b[0;32mfor\u001b[0m \u001b[0mi\u001b[0m\u001b[0;34m,\u001b[0m\u001b[0me\u001b[0m \u001b[0;32min\u001b[0m \u001b[0menumerate\u001b[0m\u001b[0;34m(\u001b[0m\u001b[0membs\u001b[0m\u001b[0;34m)\u001b[0m\u001b[0;34m]\u001b[0m\u001b[0;34m\u001b[0m\u001b[0m\n\u001b[0m",
      "\u001b[0;31mNameError\u001b[0m: name 'x_cat' is not defined"
     ]
    }
   ],
   "source": [
    "x = [e(x_cat[:,i]) for i,e in enumerate(embs)]"
   ]
  },
  {
   "cell_type": "code",
   "execution_count": 37,
   "metadata": {
    "ExecuteTime": {
     "end_time": "2018-04-07T03:23:15.293832Z",
     "start_time": "2018-04-07T03:23:15.289848Z"
    }
   },
   "outputs": [
    {
     "data": {
      "text/plain": [
       "['ip',\n",
       " 'app',\n",
       " 'device',\n",
       " 'os',\n",
       " 'channel',\n",
       " 'year',\n",
       " 'month',\n",
       " 'day',\n",
       " 'hour',\n",
       " 'minute',\n",
       " 'second',\n",
       " 'day_of_week',\n",
       " 'day_of_year']"
      ]
     },
     "execution_count": 37,
     "metadata": {},
     "output_type": "execute_result"
    }
   ],
   "source": [
    "cat_vars"
   ]
  },
  {
   "cell_type": "code",
   "execution_count": 43,
   "metadata": {
    "ExecuteTime": {
     "end_time": "2018-04-07T03:37:20.272576Z",
     "start_time": "2018-04-07T03:37:20.268911Z"
    }
   },
   "outputs": [
    {
     "data": {
      "text/plain": [
       "7000000"
      ]
     },
     "execution_count": 43,
     "metadata": {},
     "output_type": "execute_result"
    }
   ],
   "source": [
    "len([c.values for n,c in train_sample.items()][0])"
   ]
  },
  {
   "cell_type": "code",
   "execution_count": 42,
   "metadata": {
    "ExecuteTime": {
     "end_time": "2018-04-07T03:35:28.985703Z",
     "start_time": "2018-04-07T03:35:28.955665Z"
    }
   },
   "outputs": [
    {
     "data": {
      "text/html": [
       "<div>\n",
       "<style scoped>\n",
       "    .dataframe tbody tr th:only-of-type {\n",
       "        vertical-align: middle;\n",
       "    }\n",
       "\n",
       "    .dataframe tbody tr th {\n",
       "        vertical-align: top;\n",
       "    }\n",
       "\n",
       "    .dataframe thead th {\n",
       "        text-align: right;\n",
       "    }\n",
       "</style>\n",
       "<table border=\"1\" class=\"dataframe\">\n",
       "  <thead>\n",
       "    <tr style=\"text-align: right;\">\n",
       "      <th></th>\n",
       "      <th>ip</th>\n",
       "      <th>app</th>\n",
       "      <th>device</th>\n",
       "      <th>os</th>\n",
       "      <th>channel</th>\n",
       "      <th>click_time</th>\n",
       "      <th>attributed_time</th>\n",
       "      <th>is_attributed</th>\n",
       "    </tr>\n",
       "  </thead>\n",
       "  <tbody>\n",
       "    <tr>\n",
       "      <th>0</th>\n",
       "      <td>90680</td>\n",
       "      <td>9</td>\n",
       "      <td>1</td>\n",
       "      <td>18</td>\n",
       "      <td>489</td>\n",
       "      <td>2017-11-09 13:51:03</td>\n",
       "      <td>NaN</td>\n",
       "      <td>0</td>\n",
       "    </tr>\n",
       "    <tr>\n",
       "      <th>1</th>\n",
       "      <td>110563</td>\n",
       "      <td>18</td>\n",
       "      <td>1</td>\n",
       "      <td>13</td>\n",
       "      <td>107</td>\n",
       "      <td>2017-11-09 13:51:03</td>\n",
       "      <td>NaN</td>\n",
       "      <td>0</td>\n",
       "    </tr>\n",
       "    <tr>\n",
       "      <th>2</th>\n",
       "      <td>96723</td>\n",
       "      <td>18</td>\n",
       "      <td>1</td>\n",
       "      <td>22</td>\n",
       "      <td>121</td>\n",
       "      <td>2017-11-09 13:51:03</td>\n",
       "      <td>NaN</td>\n",
       "      <td>0</td>\n",
       "    </tr>\n",
       "    <tr>\n",
       "      <th>3</th>\n",
       "      <td>124897</td>\n",
       "      <td>15</td>\n",
       "      <td>1</td>\n",
       "      <td>19</td>\n",
       "      <td>3</td>\n",
       "      <td>2017-11-09 13:51:03</td>\n",
       "      <td>NaN</td>\n",
       "      <td>0</td>\n",
       "    </tr>\n",
       "    <tr>\n",
       "      <th>4</th>\n",
       "      <td>20820</td>\n",
       "      <td>9</td>\n",
       "      <td>1</td>\n",
       "      <td>13</td>\n",
       "      <td>232</td>\n",
       "      <td>2017-11-09 13:51:03</td>\n",
       "      <td>NaN</td>\n",
       "      <td>0</td>\n",
       "    </tr>\n",
       "    <tr>\n",
       "      <th>5</th>\n",
       "      <td>106435</td>\n",
       "      <td>12</td>\n",
       "      <td>1</td>\n",
       "      <td>13</td>\n",
       "      <td>497</td>\n",
       "      <td>2017-11-09 13:51:03</td>\n",
       "      <td>NaN</td>\n",
       "      <td>0</td>\n",
       "    </tr>\n",
       "    <tr>\n",
       "      <th>6</th>\n",
       "      <td>40289</td>\n",
       "      <td>9</td>\n",
       "      <td>1</td>\n",
       "      <td>16</td>\n",
       "      <td>334</td>\n",
       "      <td>2017-11-09 13:51:03</td>\n",
       "      <td>NaN</td>\n",
       "      <td>0</td>\n",
       "    </tr>\n",
       "    <tr>\n",
       "      <th>7</th>\n",
       "      <td>5348</td>\n",
       "      <td>14</td>\n",
       "      <td>1</td>\n",
       "      <td>19</td>\n",
       "      <td>489</td>\n",
       "      <td>2017-11-09 13:51:03</td>\n",
       "      <td>NaN</td>\n",
       "      <td>0</td>\n",
       "    </tr>\n",
       "    <tr>\n",
       "      <th>8</th>\n",
       "      <td>53454</td>\n",
       "      <td>12</td>\n",
       "      <td>1</td>\n",
       "      <td>19</td>\n",
       "      <td>409</td>\n",
       "      <td>2017-11-09 13:51:03</td>\n",
       "      <td>NaN</td>\n",
       "      <td>0</td>\n",
       "    </tr>\n",
       "    <tr>\n",
       "      <th>9</th>\n",
       "      <td>15490</td>\n",
       "      <td>6</td>\n",
       "      <td>1</td>\n",
       "      <td>13</td>\n",
       "      <td>459</td>\n",
       "      <td>2017-11-09 13:51:03</td>\n",
       "      <td>NaN</td>\n",
       "      <td>0</td>\n",
       "    </tr>\n",
       "    <tr>\n",
       "      <th>10</th>\n",
       "      <td>81550</td>\n",
       "      <td>12</td>\n",
       "      <td>2</td>\n",
       "      <td>19</td>\n",
       "      <td>259</td>\n",
       "      <td>2017-11-09 13:51:03</td>\n",
       "      <td>NaN</td>\n",
       "      <td>0</td>\n",
       "    </tr>\n",
       "    <tr>\n",
       "      <th>11</th>\n",
       "      <td>88281</td>\n",
       "      <td>18</td>\n",
       "      <td>1</td>\n",
       "      <td>17</td>\n",
       "      <td>107</td>\n",
       "      <td>2017-11-09 13:51:03</td>\n",
       "      <td>NaN</td>\n",
       "      <td>0</td>\n",
       "    </tr>\n",
       "    <tr>\n",
       "      <th>12</th>\n",
       "      <td>10702</td>\n",
       "      <td>3</td>\n",
       "      <td>1</td>\n",
       "      <td>19</td>\n",
       "      <td>280</td>\n",
       "      <td>2017-11-09 13:51:03</td>\n",
       "      <td>NaN</td>\n",
       "      <td>0</td>\n",
       "    </tr>\n",
       "    <tr>\n",
       "      <th>13</th>\n",
       "      <td>192809</td>\n",
       "      <td>11</td>\n",
       "      <td>1</td>\n",
       "      <td>19</td>\n",
       "      <td>173</td>\n",
       "      <td>2017-11-09 13:51:03</td>\n",
       "      <td>NaN</td>\n",
       "      <td>0</td>\n",
       "    </tr>\n",
       "    <tr>\n",
       "      <th>14</th>\n",
       "      <td>134957</td>\n",
       "      <td>21</td>\n",
       "      <td>1</td>\n",
       "      <td>19</td>\n",
       "      <td>232</td>\n",
       "      <td>2017-11-09 13:51:03</td>\n",
       "      <td>NaN</td>\n",
       "      <td>0</td>\n",
       "    </tr>\n",
       "    <tr>\n",
       "      <th>15</th>\n",
       "      <td>13684</td>\n",
       "      <td>14</td>\n",
       "      <td>1</td>\n",
       "      <td>12</td>\n",
       "      <td>489</td>\n",
       "      <td>2017-11-09 13:51:03</td>\n",
       "      <td>NaN</td>\n",
       "      <td>0</td>\n",
       "    </tr>\n",
       "    <tr>\n",
       "      <th>16</th>\n",
       "      <td>2017</td>\n",
       "      <td>3</td>\n",
       "      <td>1</td>\n",
       "      <td>19</td>\n",
       "      <td>137</td>\n",
       "      <td>2017-11-09 13:51:03</td>\n",
       "      <td>NaN</td>\n",
       "      <td>0</td>\n",
       "    </tr>\n",
       "    <tr>\n",
       "      <th>17</th>\n",
       "      <td>113686</td>\n",
       "      <td>26</td>\n",
       "      <td>1</td>\n",
       "      <td>17</td>\n",
       "      <td>121</td>\n",
       "      <td>2017-11-09 13:51:03</td>\n",
       "      <td>NaN</td>\n",
       "      <td>0</td>\n",
       "    </tr>\n",
       "    <tr>\n",
       "      <th>18</th>\n",
       "      <td>93282</td>\n",
       "      <td>21</td>\n",
       "      <td>1</td>\n",
       "      <td>11</td>\n",
       "      <td>232</td>\n",
       "      <td>2017-11-09 13:51:03</td>\n",
       "      <td>NaN</td>\n",
       "      <td>0</td>\n",
       "    </tr>\n",
       "    <tr>\n",
       "      <th>19</th>\n",
       "      <td>19565</td>\n",
       "      <td>9</td>\n",
       "      <td>1</td>\n",
       "      <td>22</td>\n",
       "      <td>448</td>\n",
       "      <td>2017-11-09 13:51:03</td>\n",
       "      <td>NaN</td>\n",
       "      <td>0</td>\n",
       "    </tr>\n",
       "    <tr>\n",
       "      <th>20</th>\n",
       "      <td>119654</td>\n",
       "      <td>18</td>\n",
       "      <td>1</td>\n",
       "      <td>27</td>\n",
       "      <td>379</td>\n",
       "      <td>2017-11-09 13:51:03</td>\n",
       "      <td>NaN</td>\n",
       "      <td>0</td>\n",
       "    </tr>\n",
       "    <tr>\n",
       "      <th>21</th>\n",
       "      <td>135369</td>\n",
       "      <td>3</td>\n",
       "      <td>1</td>\n",
       "      <td>19</td>\n",
       "      <td>409</td>\n",
       "      <td>2017-11-09 13:51:03</td>\n",
       "      <td>NaN</td>\n",
       "      <td>0</td>\n",
       "    </tr>\n",
       "    <tr>\n",
       "      <th>22</th>\n",
       "      <td>82843</td>\n",
       "      <td>3</td>\n",
       "      <td>1</td>\n",
       "      <td>22</td>\n",
       "      <td>379</td>\n",
       "      <td>2017-11-09 13:51:03</td>\n",
       "      <td>NaN</td>\n",
       "      <td>0</td>\n",
       "    </tr>\n",
       "    <tr>\n",
       "      <th>23</th>\n",
       "      <td>102106</td>\n",
       "      <td>2</td>\n",
       "      <td>1</td>\n",
       "      <td>13</td>\n",
       "      <td>237</td>\n",
       "      <td>2017-11-09 13:51:03</td>\n",
       "      <td>NaN</td>\n",
       "      <td>0</td>\n",
       "    </tr>\n",
       "    <tr>\n",
       "      <th>24</th>\n",
       "      <td>102324</td>\n",
       "      <td>18</td>\n",
       "      <td>1</td>\n",
       "      <td>13</td>\n",
       "      <td>107</td>\n",
       "      <td>2017-11-09 13:51:03</td>\n",
       "      <td>NaN</td>\n",
       "      <td>0</td>\n",
       "    </tr>\n",
       "    <tr>\n",
       "      <th>25</th>\n",
       "      <td>168817</td>\n",
       "      <td>2</td>\n",
       "      <td>1</td>\n",
       "      <td>13</td>\n",
       "      <td>212</td>\n",
       "      <td>2017-11-09 13:51:03</td>\n",
       "      <td>NaN</td>\n",
       "      <td>0</td>\n",
       "    </tr>\n",
       "    <tr>\n",
       "      <th>26</th>\n",
       "      <td>76211</td>\n",
       "      <td>20</td>\n",
       "      <td>2</td>\n",
       "      <td>2</td>\n",
       "      <td>259</td>\n",
       "      <td>2017-11-09 13:51:03</td>\n",
       "      <td>NaN</td>\n",
       "      <td>0</td>\n",
       "    </tr>\n",
       "    <tr>\n",
       "      <th>27</th>\n",
       "      <td>60298</td>\n",
       "      <td>18</td>\n",
       "      <td>1</td>\n",
       "      <td>19</td>\n",
       "      <td>107</td>\n",
       "      <td>2017-11-09 13:51:03</td>\n",
       "      <td>NaN</td>\n",
       "      <td>0</td>\n",
       "    </tr>\n",
       "    <tr>\n",
       "      <th>28</th>\n",
       "      <td>14792</td>\n",
       "      <td>9</td>\n",
       "      <td>1</td>\n",
       "      <td>22</td>\n",
       "      <td>466</td>\n",
       "      <td>2017-11-09 13:51:03</td>\n",
       "      <td>NaN</td>\n",
       "      <td>0</td>\n",
       "    </tr>\n",
       "    <tr>\n",
       "      <th>29</th>\n",
       "      <td>125339</td>\n",
       "      <td>12</td>\n",
       "      <td>1</td>\n",
       "      <td>3</td>\n",
       "      <td>340</td>\n",
       "      <td>2017-11-09 13:51:03</td>\n",
       "      <td>NaN</td>\n",
       "      <td>0</td>\n",
       "    </tr>\n",
       "    <tr>\n",
       "      <th>...</th>\n",
       "      <td>...</td>\n",
       "      <td>...</td>\n",
       "      <td>...</td>\n",
       "      <td>...</td>\n",
       "      <td>...</td>\n",
       "      <td>...</td>\n",
       "      <td>...</td>\n",
       "      <td>...</td>\n",
       "    </tr>\n",
       "    <tr>\n",
       "      <th>6999970</th>\n",
       "      <td>37462</td>\n",
       "      <td>2</td>\n",
       "      <td>2</td>\n",
       "      <td>9</td>\n",
       "      <td>435</td>\n",
       "      <td>2017-11-09 16:00:00</td>\n",
       "      <td>NaN</td>\n",
       "      <td>0</td>\n",
       "    </tr>\n",
       "    <tr>\n",
       "      <th>6999971</th>\n",
       "      <td>37168</td>\n",
       "      <td>2</td>\n",
       "      <td>1</td>\n",
       "      <td>19</td>\n",
       "      <td>237</td>\n",
       "      <td>2017-11-09 16:00:00</td>\n",
       "      <td>NaN</td>\n",
       "      <td>0</td>\n",
       "    </tr>\n",
       "    <tr>\n",
       "      <th>6999972</th>\n",
       "      <td>163581</td>\n",
       "      <td>9</td>\n",
       "      <td>1</td>\n",
       "      <td>3</td>\n",
       "      <td>322</td>\n",
       "      <td>2017-11-09 16:00:00</td>\n",
       "      <td>NaN</td>\n",
       "      <td>0</td>\n",
       "    </tr>\n",
       "    <tr>\n",
       "      <th>6999973</th>\n",
       "      <td>34894</td>\n",
       "      <td>9</td>\n",
       "      <td>1</td>\n",
       "      <td>15</td>\n",
       "      <td>322</td>\n",
       "      <td>2017-11-09 16:00:00</td>\n",
       "      <td>NaN</td>\n",
       "      <td>0</td>\n",
       "    </tr>\n",
       "    <tr>\n",
       "      <th>6999974</th>\n",
       "      <td>49383</td>\n",
       "      <td>24</td>\n",
       "      <td>2</td>\n",
       "      <td>20</td>\n",
       "      <td>178</td>\n",
       "      <td>2017-11-09 16:00:00</td>\n",
       "      <td>NaN</td>\n",
       "      <td>0</td>\n",
       "    </tr>\n",
       "    <tr>\n",
       "      <th>6999975</th>\n",
       "      <td>258208</td>\n",
       "      <td>9</td>\n",
       "      <td>1</td>\n",
       "      <td>18</td>\n",
       "      <td>490</td>\n",
       "      <td>2017-11-09 16:00:00</td>\n",
       "      <td>NaN</td>\n",
       "      <td>0</td>\n",
       "    </tr>\n",
       "    <tr>\n",
       "      <th>6999976</th>\n",
       "      <td>121312</td>\n",
       "      <td>2</td>\n",
       "      <td>1</td>\n",
       "      <td>10</td>\n",
       "      <td>236</td>\n",
       "      <td>2017-11-09 16:00:00</td>\n",
       "      <td>NaN</td>\n",
       "      <td>0</td>\n",
       "    </tr>\n",
       "    <tr>\n",
       "      <th>6999977</th>\n",
       "      <td>100212</td>\n",
       "      <td>15</td>\n",
       "      <td>2</td>\n",
       "      <td>13</td>\n",
       "      <td>15</td>\n",
       "      <td>2017-11-09 16:00:00</td>\n",
       "      <td>NaN</td>\n",
       "      <td>0</td>\n",
       "    </tr>\n",
       "    <tr>\n",
       "      <th>6999978</th>\n",
       "      <td>7912</td>\n",
       "      <td>9</td>\n",
       "      <td>1</td>\n",
       "      <td>90</td>\n",
       "      <td>445</td>\n",
       "      <td>2017-11-09 16:00:00</td>\n",
       "      <td>NaN</td>\n",
       "      <td>0</td>\n",
       "    </tr>\n",
       "    <tr>\n",
       "      <th>6999979</th>\n",
       "      <td>2463</td>\n",
       "      <td>9</td>\n",
       "      <td>1</td>\n",
       "      <td>17</td>\n",
       "      <td>107</td>\n",
       "      <td>2017-11-09 16:00:00</td>\n",
       "      <td>NaN</td>\n",
       "      <td>0</td>\n",
       "    </tr>\n",
       "    <tr>\n",
       "      <th>6999980</th>\n",
       "      <td>43763</td>\n",
       "      <td>3</td>\n",
       "      <td>1</td>\n",
       "      <td>25</td>\n",
       "      <td>402</td>\n",
       "      <td>2017-11-09 16:00:00</td>\n",
       "      <td>NaN</td>\n",
       "      <td>0</td>\n",
       "    </tr>\n",
       "    <tr>\n",
       "      <th>6999981</th>\n",
       "      <td>88718</td>\n",
       "      <td>14</td>\n",
       "      <td>1</td>\n",
       "      <td>18</td>\n",
       "      <td>446</td>\n",
       "      <td>2017-11-09 16:00:00</td>\n",
       "      <td>NaN</td>\n",
       "      <td>0</td>\n",
       "    </tr>\n",
       "    <tr>\n",
       "      <th>6999982</th>\n",
       "      <td>77979</td>\n",
       "      <td>12</td>\n",
       "      <td>1</td>\n",
       "      <td>23</td>\n",
       "      <td>259</td>\n",
       "      <td>2017-11-09 16:00:00</td>\n",
       "      <td>NaN</td>\n",
       "      <td>0</td>\n",
       "    </tr>\n",
       "    <tr>\n",
       "      <th>6999983</th>\n",
       "      <td>84092</td>\n",
       "      <td>21</td>\n",
       "      <td>1</td>\n",
       "      <td>13</td>\n",
       "      <td>232</td>\n",
       "      <td>2017-11-09 16:00:00</td>\n",
       "      <td>NaN</td>\n",
       "      <td>0</td>\n",
       "    </tr>\n",
       "    <tr>\n",
       "      <th>6999984</th>\n",
       "      <td>119502</td>\n",
       "      <td>11</td>\n",
       "      <td>1</td>\n",
       "      <td>1</td>\n",
       "      <td>173</td>\n",
       "      <td>2017-11-09 16:00:00</td>\n",
       "      <td>NaN</td>\n",
       "      <td>0</td>\n",
       "    </tr>\n",
       "    <tr>\n",
       "      <th>6999985</th>\n",
       "      <td>123994</td>\n",
       "      <td>15</td>\n",
       "      <td>1</td>\n",
       "      <td>17</td>\n",
       "      <td>130</td>\n",
       "      <td>2017-11-09 16:00:00</td>\n",
       "      <td>NaN</td>\n",
       "      <td>0</td>\n",
       "    </tr>\n",
       "    <tr>\n",
       "      <th>6999986</th>\n",
       "      <td>112862</td>\n",
       "      <td>2</td>\n",
       "      <td>1</td>\n",
       "      <td>17</td>\n",
       "      <td>477</td>\n",
       "      <td>2017-11-09 16:00:00</td>\n",
       "      <td>NaN</td>\n",
       "      <td>0</td>\n",
       "    </tr>\n",
       "    <tr>\n",
       "      <th>6999987</th>\n",
       "      <td>22978</td>\n",
       "      <td>3</td>\n",
       "      <td>1</td>\n",
       "      <td>10</td>\n",
       "      <td>173</td>\n",
       "      <td>2017-11-09 16:00:00</td>\n",
       "      <td>NaN</td>\n",
       "      <td>0</td>\n",
       "    </tr>\n",
       "    <tr>\n",
       "      <th>6999988</th>\n",
       "      <td>48184</td>\n",
       "      <td>12</td>\n",
       "      <td>1</td>\n",
       "      <td>19</td>\n",
       "      <td>259</td>\n",
       "      <td>2017-11-09 16:00:00</td>\n",
       "      <td>NaN</td>\n",
       "      <td>0</td>\n",
       "    </tr>\n",
       "    <tr>\n",
       "      <th>6999989</th>\n",
       "      <td>88</td>\n",
       "      <td>23</td>\n",
       "      <td>1</td>\n",
       "      <td>19</td>\n",
       "      <td>153</td>\n",
       "      <td>2017-11-09 16:00:00</td>\n",
       "      <td>NaN</td>\n",
       "      <td>0</td>\n",
       "    </tr>\n",
       "    <tr>\n",
       "      <th>6999990</th>\n",
       "      <td>110840</td>\n",
       "      <td>2</td>\n",
       "      <td>1</td>\n",
       "      <td>17</td>\n",
       "      <td>435</td>\n",
       "      <td>2017-11-09 16:00:00</td>\n",
       "      <td>NaN</td>\n",
       "      <td>0</td>\n",
       "    </tr>\n",
       "    <tr>\n",
       "      <th>6999991</th>\n",
       "      <td>131635</td>\n",
       "      <td>2</td>\n",
       "      <td>1</td>\n",
       "      <td>17</td>\n",
       "      <td>435</td>\n",
       "      <td>2017-11-09 16:00:00</td>\n",
       "      <td>NaN</td>\n",
       "      <td>0</td>\n",
       "    </tr>\n",
       "    <tr>\n",
       "      <th>6999992</th>\n",
       "      <td>5314</td>\n",
       "      <td>18</td>\n",
       "      <td>1</td>\n",
       "      <td>3</td>\n",
       "      <td>107</td>\n",
       "      <td>2017-11-09 16:00:00</td>\n",
       "      <td>NaN</td>\n",
       "      <td>0</td>\n",
       "    </tr>\n",
       "    <tr>\n",
       "      <th>6999993</th>\n",
       "      <td>66000</td>\n",
       "      <td>1</td>\n",
       "      <td>2</td>\n",
       "      <td>37</td>\n",
       "      <td>13</td>\n",
       "      <td>2017-11-09 16:00:00</td>\n",
       "      <td>NaN</td>\n",
       "      <td>0</td>\n",
       "    </tr>\n",
       "    <tr>\n",
       "      <th>6999994</th>\n",
       "      <td>100212</td>\n",
       "      <td>1</td>\n",
       "      <td>2</td>\n",
       "      <td>13</td>\n",
       "      <td>125</td>\n",
       "      <td>2017-11-09 16:00:00</td>\n",
       "      <td>NaN</td>\n",
       "      <td>0</td>\n",
       "    </tr>\n",
       "    <tr>\n",
       "      <th>6999995</th>\n",
       "      <td>121312</td>\n",
       "      <td>12</td>\n",
       "      <td>1</td>\n",
       "      <td>10</td>\n",
       "      <td>340</td>\n",
       "      <td>2017-11-09 16:00:00</td>\n",
       "      <td>NaN</td>\n",
       "      <td>0</td>\n",
       "    </tr>\n",
       "    <tr>\n",
       "      <th>6999996</th>\n",
       "      <td>46894</td>\n",
       "      <td>3</td>\n",
       "      <td>1</td>\n",
       "      <td>19</td>\n",
       "      <td>211</td>\n",
       "      <td>2017-11-09 16:00:00</td>\n",
       "      <td>NaN</td>\n",
       "      <td>0</td>\n",
       "    </tr>\n",
       "    <tr>\n",
       "      <th>6999997</th>\n",
       "      <td>320126</td>\n",
       "      <td>1</td>\n",
       "      <td>1</td>\n",
       "      <td>13</td>\n",
       "      <td>274</td>\n",
       "      <td>2017-11-09 16:00:00</td>\n",
       "      <td>NaN</td>\n",
       "      <td>0</td>\n",
       "    </tr>\n",
       "    <tr>\n",
       "      <th>6999998</th>\n",
       "      <td>189286</td>\n",
       "      <td>12</td>\n",
       "      <td>1</td>\n",
       "      <td>37</td>\n",
       "      <td>259</td>\n",
       "      <td>2017-11-09 16:00:00</td>\n",
       "      <td>NaN</td>\n",
       "      <td>0</td>\n",
       "    </tr>\n",
       "    <tr>\n",
       "      <th>6999999</th>\n",
       "      <td>106485</td>\n",
       "      <td>11</td>\n",
       "      <td>1</td>\n",
       "      <td>19</td>\n",
       "      <td>137</td>\n",
       "      <td>2017-11-09 16:00:00</td>\n",
       "      <td>NaN</td>\n",
       "      <td>0</td>\n",
       "    </tr>\n",
       "  </tbody>\n",
       "</table>\n",
       "<p>7000000 rows × 8 columns</p>\n",
       "</div>"
      ],
      "text/plain": [
       "             ip  app  device  os  channel           click_time  \\\n",
       "0         90680    9       1  18      489  2017-11-09 13:51:03   \n",
       "1        110563   18       1  13      107  2017-11-09 13:51:03   \n",
       "2         96723   18       1  22      121  2017-11-09 13:51:03   \n",
       "3        124897   15       1  19        3  2017-11-09 13:51:03   \n",
       "4         20820    9       1  13      232  2017-11-09 13:51:03   \n",
       "5        106435   12       1  13      497  2017-11-09 13:51:03   \n",
       "6         40289    9       1  16      334  2017-11-09 13:51:03   \n",
       "7          5348   14       1  19      489  2017-11-09 13:51:03   \n",
       "8         53454   12       1  19      409  2017-11-09 13:51:03   \n",
       "9         15490    6       1  13      459  2017-11-09 13:51:03   \n",
       "10        81550   12       2  19      259  2017-11-09 13:51:03   \n",
       "11        88281   18       1  17      107  2017-11-09 13:51:03   \n",
       "12        10702    3       1  19      280  2017-11-09 13:51:03   \n",
       "13       192809   11       1  19      173  2017-11-09 13:51:03   \n",
       "14       134957   21       1  19      232  2017-11-09 13:51:03   \n",
       "15        13684   14       1  12      489  2017-11-09 13:51:03   \n",
       "16         2017    3       1  19      137  2017-11-09 13:51:03   \n",
       "17       113686   26       1  17      121  2017-11-09 13:51:03   \n",
       "18        93282   21       1  11      232  2017-11-09 13:51:03   \n",
       "19        19565    9       1  22      448  2017-11-09 13:51:03   \n",
       "20       119654   18       1  27      379  2017-11-09 13:51:03   \n",
       "21       135369    3       1  19      409  2017-11-09 13:51:03   \n",
       "22        82843    3       1  22      379  2017-11-09 13:51:03   \n",
       "23       102106    2       1  13      237  2017-11-09 13:51:03   \n",
       "24       102324   18       1  13      107  2017-11-09 13:51:03   \n",
       "25       168817    2       1  13      212  2017-11-09 13:51:03   \n",
       "26        76211   20       2   2      259  2017-11-09 13:51:03   \n",
       "27        60298   18       1  19      107  2017-11-09 13:51:03   \n",
       "28        14792    9       1  22      466  2017-11-09 13:51:03   \n",
       "29       125339   12       1   3      340  2017-11-09 13:51:03   \n",
       "...         ...  ...     ...  ..      ...                  ...   \n",
       "6999970   37462    2       2   9      435  2017-11-09 16:00:00   \n",
       "6999971   37168    2       1  19      237  2017-11-09 16:00:00   \n",
       "6999972  163581    9       1   3      322  2017-11-09 16:00:00   \n",
       "6999973   34894    9       1  15      322  2017-11-09 16:00:00   \n",
       "6999974   49383   24       2  20      178  2017-11-09 16:00:00   \n",
       "6999975  258208    9       1  18      490  2017-11-09 16:00:00   \n",
       "6999976  121312    2       1  10      236  2017-11-09 16:00:00   \n",
       "6999977  100212   15       2  13       15  2017-11-09 16:00:00   \n",
       "6999978    7912    9       1  90      445  2017-11-09 16:00:00   \n",
       "6999979    2463    9       1  17      107  2017-11-09 16:00:00   \n",
       "6999980   43763    3       1  25      402  2017-11-09 16:00:00   \n",
       "6999981   88718   14       1  18      446  2017-11-09 16:00:00   \n",
       "6999982   77979   12       1  23      259  2017-11-09 16:00:00   \n",
       "6999983   84092   21       1  13      232  2017-11-09 16:00:00   \n",
       "6999984  119502   11       1   1      173  2017-11-09 16:00:00   \n",
       "6999985  123994   15       1  17      130  2017-11-09 16:00:00   \n",
       "6999986  112862    2       1  17      477  2017-11-09 16:00:00   \n",
       "6999987   22978    3       1  10      173  2017-11-09 16:00:00   \n",
       "6999988   48184   12       1  19      259  2017-11-09 16:00:00   \n",
       "6999989      88   23       1  19      153  2017-11-09 16:00:00   \n",
       "6999990  110840    2       1  17      435  2017-11-09 16:00:00   \n",
       "6999991  131635    2       1  17      435  2017-11-09 16:00:00   \n",
       "6999992    5314   18       1   3      107  2017-11-09 16:00:00   \n",
       "6999993   66000    1       2  37       13  2017-11-09 16:00:00   \n",
       "6999994  100212    1       2  13      125  2017-11-09 16:00:00   \n",
       "6999995  121312   12       1  10      340  2017-11-09 16:00:00   \n",
       "6999996   46894    3       1  19      211  2017-11-09 16:00:00   \n",
       "6999997  320126    1       1  13      274  2017-11-09 16:00:00   \n",
       "6999998  189286   12       1  37      259  2017-11-09 16:00:00   \n",
       "6999999  106485   11       1  19      137  2017-11-09 16:00:00   \n",
       "\n",
       "        attributed_time  is_attributed  \n",
       "0                   NaN              0  \n",
       "1                   NaN              0  \n",
       "2                   NaN              0  \n",
       "3                   NaN              0  \n",
       "4                   NaN              0  \n",
       "5                   NaN              0  \n",
       "6                   NaN              0  \n",
       "7                   NaN              0  \n",
       "8                   NaN              0  \n",
       "9                   NaN              0  \n",
       "10                  NaN              0  \n",
       "11                  NaN              0  \n",
       "12                  NaN              0  \n",
       "13                  NaN              0  \n",
       "14                  NaN              0  \n",
       "15                  NaN              0  \n",
       "16                  NaN              0  \n",
       "17                  NaN              0  \n",
       "18                  NaN              0  \n",
       "19                  NaN              0  \n",
       "20                  NaN              0  \n",
       "21                  NaN              0  \n",
       "22                  NaN              0  \n",
       "23                  NaN              0  \n",
       "24                  NaN              0  \n",
       "25                  NaN              0  \n",
       "26                  NaN              0  \n",
       "27                  NaN              0  \n",
       "28                  NaN              0  \n",
       "29                  NaN              0  \n",
       "...                 ...            ...  \n",
       "6999970             NaN              0  \n",
       "6999971             NaN              0  \n",
       "6999972             NaN              0  \n",
       "6999973             NaN              0  \n",
       "6999974             NaN              0  \n",
       "6999975             NaN              0  \n",
       "6999976             NaN              0  \n",
       "6999977             NaN              0  \n",
       "6999978             NaN              0  \n",
       "6999979             NaN              0  \n",
       "6999980             NaN              0  \n",
       "6999981             NaN              0  \n",
       "6999982             NaN              0  \n",
       "6999983             NaN              0  \n",
       "6999984             NaN              0  \n",
       "6999985             NaN              0  \n",
       "6999986             NaN              0  \n",
       "6999987             NaN              0  \n",
       "6999988             NaN              0  \n",
       "6999989             NaN              0  \n",
       "6999990             NaN              0  \n",
       "6999991             NaN              0  \n",
       "6999992             NaN              0  \n",
       "6999993             NaN              0  \n",
       "6999994             NaN              0  \n",
       "6999995             NaN              0  \n",
       "6999996             NaN              0  \n",
       "6999997             NaN              0  \n",
       "6999998             NaN              0  \n",
       "6999999             NaN              0  \n",
       "\n",
       "[7000000 rows x 8 columns]"
      ]
     },
     "execution_count": 42,
     "metadata": {},
     "output_type": "execute_result"
    }
   ],
   "source": [
    "train_sample"
   ]
  },
  {
   "cell_type": "code",
   "execution_count": null,
   "metadata": {},
   "outputs": [],
   "source": []
  }
 ],
 "metadata": {
  "kernelspec": {
   "display_name": "Python 3",
   "language": "python",
   "name": "python3"
  },
  "language_info": {
   "codemirror_mode": {
    "name": "ipython",
    "version": 3
   },
   "file_extension": ".py",
   "mimetype": "text/x-python",
   "name": "python",
   "nbconvert_exporter": "python",
   "pygments_lexer": "ipython3",
   "version": "3.6.4"
  },
  "toc": {
   "base_numbering": 1,
   "nav_menu": {},
   "number_sections": true,
   "sideBar": true,
   "skip_h1_title": false,
   "title_cell": "Table of Contents",
   "title_sidebar": "Contents",
   "toc_cell": false,
   "toc_position": {},
   "toc_section_display": true,
   "toc_window_display": true
  }
 },
 "nbformat": 4,
 "nbformat_minor": 2
}
